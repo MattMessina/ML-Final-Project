{
 "cells": [
  {
   "cell_type": "code",
   "execution_count": 1,
   "metadata": {},
   "outputs": [
    {
     "output_type": "display_data",
     "data": {
      "application/javascript": "IPython.notebook.set_autosave_interval(0)"
     },
     "metadata": {}
    },
    {
     "output_type": "stream",
     "name": "stdout",
     "text": [
      "Autosave disabled\n"
     ]
    }
   ],
   "source": [
    "import numpy as np\n",
    "from matplotlib import pylab as plt\n",
    "%autosave 0\n",
    "%matplotlib inline"
   ]
  },
  {
   "cell_type": "markdown",
   "metadata": {},
   "source": [
    "# Sentimental Analysis (Introduction)"

   ]
  },
  {
   "cell_type": "markdown",
   "metadata": {},
   "source": [
    "### What is Sentimental Analysis?"
   ]
  },
  {
   "cell_type": "markdown",
   "metadata": {},
   "source": [
    "Sentimental Analysis (aka \"Opinion Mining\") is the technique of analyzing the natural language used in subjective text-data to perceive and identify emotions. To classify a person's sentiment toward a particular subject brought up via survey responses, reviews, social media posts, email, or any other kind of textual sample, we typically generate a vocabulary based off of any relevant words used in said sample. We can then utilize that vocabulary to make classifications regarding how positive or negative the sentiment of a particular text sample is.\n",
    "\n",
    "For example – If we do sentimental analysis in an amazon product review with over 20, 000 reviews, it can be helpful in understanding if consumers are happy about the price or different features of that product. Below is a table which shows an example of how data is extracted."
   ]
  },
  {
   "cell_type": "markdown",
   "metadata": {},
   "source": [
    "### Basic Classification Example"
   ]
  },
  {
   "cell_type": "markdown",
   "metadata": {},
   "source": [
    "### Basic classification example:\n",
    "\n",
    "| Customer Feedback       | Sentiment | \n",
    "| ---                     | ---       |\n",
    "|“An amazing product for a great price “ | Positive |\n",
    "|“This product is not worth the price “| Negative |\n",
    "\n",
    "\n",
    "\n"
   ]
  },
  {
   "cell_type": "markdown",
   "metadata": {},
   "source": [
    "### Why do we need Sentimental Analysis?"
   ]
  },
  {
   "cell_type": "markdown",
   "metadata": {},
   "source": [
    "In our modern environment, companies have an enormous amount of data which consists of consumer feedback, social media tags, and many more. It is not feasible for a human to manually review that data and that’s where sentiment analysis and machine learning come into play. By running product reviews through sentiment analysis and machine learning algorithms, companies can gain a general understanding of consumer sentiment and make important design decisions about a current or future product. Sentimental Analysis can also be utilized in making investment decisions on the stock market by analyzing news sources and social media to gain an understanding of how other people feel about a particular security."
   ]
  },
  {
   "cell_type": "markdown",
   "metadata": {},
   "source": [
    "### Our approach is Machine learning-based Sentimental Analysis"
   ]
  },
  {
   "cell_type": "markdown",
   "metadata": {},
   "source": [
    "### Our approach is Machine learning-based Sentimental Analysis\n",
    "Here, we train our algorithm on reviews and match them with the appropriate score. If the score is above 3.5 then it will be considered as 1 or positive and if it’s negative, then it will be below 3.5 then it will be negative or 0. Since Sentimental Analysis is considered a binary classification problem, we have decided to use Random Forest as our baseline classifier for computing accuracies. We found our average accuracy on the video game review dataset provided by Amazon to be around 0.90. In order to better compare these accuracies we decided to implement another baseline classifier, decision trees. In comparison, Decision Tree’s outputted an average accuracy of 0.83. The decision tree classifier ended up being slightly less accurate than our random forest classifier, likely due to the fact that it only utilizes one tree structure whereas random forest utilizes several decision trees during the classification process. Out of the three different classifiers that we tested, Random Forest seemed to perform the best on a consistent basis."
   ]
  },
  {
   "cell_type": "code",
   "execution_count": 22,
   "metadata": {},
   "outputs": [],
   "source": [
    "from sklearn.neighbors import KNeighborsClassifier\n",
    "import tensorflow as tf \n",
    "from tensorflow.keras.layers.experimental.preprocessing import TextVectorization\n",
    "from IPython.display import Image"
   ]
  },
  {
   "cell_type": "code",
   "execution_count": 23,
   "metadata": {},
   "outputs": [],
   "source": [
    "import pandas as pd\n",
    "import gzip\n",
    "import json\n",
    "\n",
    "def parse(path):\n",
    "    g = gzip.open(path, 'rb')\n",
    "    for l in g:\n",
    "        yield json.loads(l)\n",
    "\n",
    "def getDF(path):\n",
    "    i = 0\n",
    "    df = {}\n",
    "    for d in parse(path):\n",
    "        df[i] = d\n",
    "        i += 1\n",
    "    return pd.DataFrame.from_dict(df, orient='index')"
   ]
  },
  {
   "cell_type": "code",
   "execution_count": 4,
   "metadata": {},
   "outputs": [],
   "source": [
    "# feature selection\n",
    "def select_features(df, max_features):\n",
    "    X = df['reviewText']\n",
    "    y = df['overall']\n",
    "\n",
    "    features = np.array(X.tolist()[:max_features])\n",
    "    scores = np.array(y.tolist()[:max_features])\n",
    "    \n",
    "    # # shuffle the datasets in the same order\n",
    "    # p = np.random.permutation(max_features)\n",
    "    # features = features[p]\n",
    "    # scores = scores[p]\n",
    "\n",
    "    final_labels = []\n",
    "    \n",
    "    # generate labels\n",
    "    for i in range(len(features)):\n",
    "        if scores[i] >= 3.5:\n",
    "            final_labels.append(1)\n",
    "        else:\n",
    "            final_labels.append(0)\n",
    "    final_labels = np.array(final_labels)\n",
    "    return (features, final_labels)\n"
   ]
  },
  {
   "cell_type": "code",
   "execution_count": 5,
   "metadata": {},
   "outputs": [],
   "source": [
    "def create_bow_model(features, max_features):\n",
    "    # creates an object for each item inside of a given tensor then adds them all into a list\n",
    "    text_dataset = tf.data.Dataset.from_tensor_slices(features)\n",
    "\n",
    "    max_features = max_features  # Maximum vocab size.\n",
    "    max_len = 4  # Sequence length to pad the outputs to.\n",
    "    embedding_dims = 2\n",
    "\n",
    "    # # Create the vectorization layer (layer for generating the bag of words) \n",
    "    vectorize_layer = TextVectorization(\n",
    "    max_tokens=max_features,\n",
    "    output_mode='count')\n",
    "\n",
    "\n",
    "    # # Now that the vocab layer has been created, call `adapt` on the text-only  \n",
    "    # # dataset to create the vocabulary.  \n",
    "    vectorize_layer.adapt(text_dataset.batch(64))\n",
    "    model = tf.keras.models.Sequential()\n",
    "    model.add(tf.keras.Input(shape=(1,), dtype=tf.string))\n",
    "    model.add(vectorize_layer)\n",
    "\n",
    "    return model"
   ]
  },
  {
   "cell_type": "code",
   "execution_count": 15,
   "metadata": {},
   "outputs": [],
   "source": [
    "#generate bag of words from selected features\n",
    "def generate_bow(features, max_features, model):\n",
    "    input_data = features\n",
    "    input_data.shape = (max_features, 1)\n",
    "    features_bow = model.predict(input_data)\n",
    "    return features_bow"
   ]
  },
  {
   "cell_type": "code",
   "execution_count": null,
   "metadata": {},
   "outputs": [],
   "source": []
  },
  {
   "cell_type": "markdown",
   "metadata": {},
   "source": [
    "# Random Forest and Decision Tree"
   ]
  },
  {
   "cell_type": "code",
   "execution_count": 7,
   "metadata": {},
   "outputs": [],
   "source": [
    "from sklearn.model_selection import train_test_split\n",
    "from sklearn.ensemble import RandomForestClassifier\n",
    "from sklearn.metrics import f1_score\n",
    "from sklearn.tree import DecisionTreeClassifier"
   ]
  },
  {
   "cell_type": "code",
   "execution_count": 6,
   "metadata": {},
   "outputs": [],
   "source": [
    "def run_random_forest(features, labels):\n",
    "    classifier = RandomForestClassifier(n_estimators=10)\n",
    "    X_train, X_test, y_train, y_test = train_test_split(features, labels, test_size=0.33, random_state=42)\n",
    "\n",
    "    classifier.fit(X_train, y_train)\n",
    "\n",
    "    y_pred = classifier.predict_proba(X_test)\n",
    "    #calculate f1 scores\n",
    "    y_pred=y_pred[:,1]>=0.3\n",
    "    y_pred_int = y_pred.astype(np.int)\n",
    "    score = f1_score(y_test, y_pred_int)\n",
    "\n",
    "    return score"
   ]
  },
  {
   "cell_type": "code",
   "execution_count": 24,
   "metadata": {},
   "outputs": [],
   "source": [
    "def run_decision_tree(features, labels):\n",
    "    X_train, X_test, y_train, y_test = train_test_split(\n",
    "        features, labels, test_size=0.33, random_state=42)\n",
    "\n",
    "    nc = DecisionTreeClassifier(random_state = 2)\n",
    "    nc.fit(X_train,y_train)\n",
    "\n",
    "    y_pred = nc.predict_proba(X_test)\n",
    "    #calculate f1 scores\n",
    "    y_pred=y_pred[:,1]>=0.3\n",
    "    y_pred_int = y_pred.astype(np.int)\n",
    "    score = f1_score(y_test, y_pred_int)\n",
    "\n",
    "    return score"
   ]
  },
  {
   "cell_type": "markdown",
   "metadata": {},
   "source": [
    "# Feed Foward Neural Network "
   ]
  },
  {
   "cell_type": "markdown",
   "metadata": {},
   "source": [
    "Feedforward neural network is an artificial neural network where the node doe not form connections and it is not a cycle. It is a classification algorithm, where neuron-like units or inputs is categorized in the form of layers. Each unit is connected with the previous. The data enters at the input and flows through the network until it reaches the outputs. When it acts as a classifier to compute the accuracy, no feedback is passed among the nodes of these Layers. Below is an image "
   ]
  },
  {
   "cell_type": "code",
   "execution_count": 10,
   "metadata": {},
   "outputs": [
    {
     "output_type": "error",
     "ename": "FileNotFoundError",
     "evalue": "[Errno 2] No such file or directory: 'FF.png'",
     "traceback": [
      "\u001b[0;31m---------------------------------------------------------------------------\u001b[0m",
      "\u001b[0;31mFileNotFoundError\u001b[0m                         Traceback (most recent call last)",
      "\u001b[0;32m<ipython-input-10-93edadc7e360>\u001b[0m in \u001b[0;36m<module>\u001b[0;34m\u001b[0m\n\u001b[0;32m----> 1\u001b[0;31m \u001b[0mImage\u001b[0m\u001b[0;34m(\u001b[0m\u001b[0mfilename\u001b[0m \u001b[0;34m=\u001b[0m \u001b[0;34m\"FF.png\"\u001b[0m\u001b[0;34m,\u001b[0m \u001b[0mwidth\u001b[0m \u001b[0;34m=\u001b[0m \u001b[0;36m800\u001b[0m \u001b[0;34m,\u001b[0m \u001b[0mheight\u001b[0m \u001b[0;34m=\u001b[0m \u001b[0;36m200\u001b[0m\u001b[0;34m)\u001b[0m\u001b[0;34m\u001b[0m\u001b[0;34m\u001b[0m\u001b[0m\n\u001b[0m",
      "\u001b[0;32m~/.local/lib/python3.8/site-packages/IPython/core/display.py\u001b[0m in \u001b[0;36m__init__\u001b[0;34m(self, data, url, filename, format, embed, width, height, retina, unconfined, metadata)\u001b[0m\n\u001b[1;32m   1222\u001b[0m         \u001b[0mself\u001b[0m\u001b[0;34m.\u001b[0m\u001b[0mretina\u001b[0m \u001b[0;34m=\u001b[0m \u001b[0mretina\u001b[0m\u001b[0;34m\u001b[0m\u001b[0;34m\u001b[0m\u001b[0m\n\u001b[1;32m   1223\u001b[0m         \u001b[0mself\u001b[0m\u001b[0;34m.\u001b[0m\u001b[0munconfined\u001b[0m \u001b[0;34m=\u001b[0m \u001b[0munconfined\u001b[0m\u001b[0;34m\u001b[0m\u001b[0;34m\u001b[0m\u001b[0m\n\u001b[0;32m-> 1224\u001b[0;31m         super(Image, self).__init__(data=data, url=url, filename=filename, \n\u001b[0m\u001b[1;32m   1225\u001b[0m                 metadata=metadata)\n\u001b[1;32m   1226\u001b[0m \u001b[0;34m\u001b[0m\u001b[0m\n",
      "\u001b[0;32m~/.local/lib/python3.8/site-packages/IPython/core/display.py\u001b[0m in \u001b[0;36m__init__\u001b[0;34m(self, data, url, filename, metadata)\u001b[0m\n\u001b[1;32m    628\u001b[0m             \u001b[0mself\u001b[0m\u001b[0;34m.\u001b[0m\u001b[0mmetadata\u001b[0m \u001b[0;34m=\u001b[0m \u001b[0;34m{\u001b[0m\u001b[0;34m}\u001b[0m\u001b[0;34m\u001b[0m\u001b[0;34m\u001b[0m\u001b[0m\n\u001b[1;32m    629\u001b[0m \u001b[0;34m\u001b[0m\u001b[0m\n\u001b[0;32m--> 630\u001b[0;31m         \u001b[0mself\u001b[0m\u001b[0;34m.\u001b[0m\u001b[0mreload\u001b[0m\u001b[0;34m(\u001b[0m\u001b[0;34m)\u001b[0m\u001b[0;34m\u001b[0m\u001b[0;34m\u001b[0m\u001b[0m\n\u001b[0m\u001b[1;32m    631\u001b[0m         \u001b[0mself\u001b[0m\u001b[0;34m.\u001b[0m\u001b[0m_check_data\u001b[0m\u001b[0;34m(\u001b[0m\u001b[0;34m)\u001b[0m\u001b[0;34m\u001b[0m\u001b[0;34m\u001b[0m\u001b[0m\n\u001b[1;32m    632\u001b[0m \u001b[0;34m\u001b[0m\u001b[0m\n",
      "\u001b[0;32m~/.local/lib/python3.8/site-packages/IPython/core/display.py\u001b[0m in \u001b[0;36mreload\u001b[0;34m(self)\u001b[0m\n\u001b[1;32m   1254\u001b[0m         \u001b[0;34m\"\"\"Reload the raw data from file or URL.\"\"\"\u001b[0m\u001b[0;34m\u001b[0m\u001b[0;34m\u001b[0m\u001b[0m\n\u001b[1;32m   1255\u001b[0m         \u001b[0;32mif\u001b[0m \u001b[0mself\u001b[0m\u001b[0;34m.\u001b[0m\u001b[0membed\u001b[0m\u001b[0;34m:\u001b[0m\u001b[0;34m\u001b[0m\u001b[0;34m\u001b[0m\u001b[0m\n\u001b[0;32m-> 1256\u001b[0;31m             \u001b[0msuper\u001b[0m\u001b[0;34m(\u001b[0m\u001b[0mImage\u001b[0m\u001b[0;34m,\u001b[0m\u001b[0mself\u001b[0m\u001b[0;34m)\u001b[0m\u001b[0;34m.\u001b[0m\u001b[0mreload\u001b[0m\u001b[0;34m(\u001b[0m\u001b[0;34m)\u001b[0m\u001b[0;34m\u001b[0m\u001b[0;34m\u001b[0m\u001b[0m\n\u001b[0m\u001b[1;32m   1257\u001b[0m             \u001b[0;32mif\u001b[0m \u001b[0mself\u001b[0m\u001b[0;34m.\u001b[0m\u001b[0mretina\u001b[0m\u001b[0;34m:\u001b[0m\u001b[0;34m\u001b[0m\u001b[0;34m\u001b[0m\u001b[0m\n\u001b[1;32m   1258\u001b[0m                 \u001b[0mself\u001b[0m\u001b[0;34m.\u001b[0m\u001b[0m_retina_shape\u001b[0m\u001b[0;34m(\u001b[0m\u001b[0;34m)\u001b[0m\u001b[0;34m\u001b[0m\u001b[0;34m\u001b[0m\u001b[0m\n",
      "\u001b[0;32m~/.local/lib/python3.8/site-packages/IPython/core/display.py\u001b[0m in \u001b[0;36mreload\u001b[0;34m(self)\u001b[0m\n\u001b[1;32m    653\u001b[0m         \u001b[0;34m\"\"\"Reload the raw data from file or URL.\"\"\"\u001b[0m\u001b[0;34m\u001b[0m\u001b[0;34m\u001b[0m\u001b[0m\n\u001b[1;32m    654\u001b[0m         \u001b[0;32mif\u001b[0m \u001b[0mself\u001b[0m\u001b[0;34m.\u001b[0m\u001b[0mfilename\u001b[0m \u001b[0;32mis\u001b[0m \u001b[0;32mnot\u001b[0m \u001b[0;32mNone\u001b[0m\u001b[0;34m:\u001b[0m\u001b[0;34m\u001b[0m\u001b[0;34m\u001b[0m\u001b[0m\n\u001b[0;32m--> 655\u001b[0;31m             \u001b[0;32mwith\u001b[0m \u001b[0mopen\u001b[0m\u001b[0;34m(\u001b[0m\u001b[0mself\u001b[0m\u001b[0;34m.\u001b[0m\u001b[0mfilename\u001b[0m\u001b[0;34m,\u001b[0m \u001b[0mself\u001b[0m\u001b[0;34m.\u001b[0m\u001b[0m_read_flags\u001b[0m\u001b[0;34m)\u001b[0m \u001b[0;32mas\u001b[0m \u001b[0mf\u001b[0m\u001b[0;34m:\u001b[0m\u001b[0;34m\u001b[0m\u001b[0;34m\u001b[0m\u001b[0m\n\u001b[0m\u001b[1;32m    656\u001b[0m                 \u001b[0mself\u001b[0m\u001b[0;34m.\u001b[0m\u001b[0mdata\u001b[0m \u001b[0;34m=\u001b[0m \u001b[0mf\u001b[0m\u001b[0;34m.\u001b[0m\u001b[0mread\u001b[0m\u001b[0;34m(\u001b[0m\u001b[0;34m)\u001b[0m\u001b[0;34m\u001b[0m\u001b[0;34m\u001b[0m\u001b[0m\n\u001b[1;32m    657\u001b[0m         \u001b[0;32melif\u001b[0m \u001b[0mself\u001b[0m\u001b[0;34m.\u001b[0m\u001b[0murl\u001b[0m \u001b[0;32mis\u001b[0m \u001b[0;32mnot\u001b[0m \u001b[0;32mNone\u001b[0m\u001b[0;34m:\u001b[0m\u001b[0;34m\u001b[0m\u001b[0;34m\u001b[0m\u001b[0m\n",
      "\u001b[0;31mFileNotFoundError\u001b[0m: [Errno 2] No such file or directory: 'FF.png'"
     ]
    }
   ],
   "source": [
    "Image(filename = \"FF.png\", width = 800 , height = 200)"
   ]
  },
  {
   "cell_type": "markdown",
   "metadata": {},
   "source": [
    "####  Reference \n",
    "\"Feedforward neural networks 1. What is feedforward neural network ?\",26th April,2004.https://www.fon.hum.uva.nl/praat/manual/Feedforward_neural_networks_1__What_is_a_feedforward_ne.html. 7th December 2020.\n"
   ]
  },
  {
   "cell_type": "markdown",
   "metadata": {},
   "source": [
    "# Feed Foward Neural Network Implementation"
   ]
  },
  {
   "cell_type": "code",
   "execution_count": 10,
   "metadata": {},
   "outputs": [],
   "source": [
    "from keras.preprocessing import sequence\n",
    "from keras.models import Sequential\n",
    "from keras.layers import Dense, Dropout, Activation\n",
    "from keras.layers import Embedding\n",
    "from keras.layers import Convolution1D, GlobalMaxPooling1D"
   ]
  },
  {
   "cell_type": "code",
   "execution_count": 11,
   "metadata": {},
   "outputs": [],
   "source": [
    "def build_nn_model():\n",
    "    model = Sequential()\n",
    "    #ReLU is widely used\n",
    "    #sigmoid is used for the output layer\n",
    "    #dense is basically adding layers to yout model for better input and output\n",
    "    model.add(Dense(12, activation = 'relu'))\n",
    "    model.add(Dense(8, activation = 'relu'))\n",
    "    model.add(Dense(1, activation = 'sigmoid'))\n",
    "\n",
    "    #binary_cross used for binary classificaiton problems\n",
    "    # adam = for gradient descent \n",
    "    #metric because this is a classificaiton problem \n",
    "    model.compile(loss='binary_crossentropy', optimizer='adam', metrics=['accuracy'])\n",
    "    return model"
   ]
  },
  {
   "cell_type": "markdown",
   "metadata": {},
   "source": [
    "### Explanation \n",
    "A standard straightforward Feedforward neural network can implemented by just adding dense layers to a model. First we start of making a sequential constructor. A sequential constructor is a heap of linear layers. We are going to be using these Dense layers for our input and output parameteres. We have three Dense layers the first two have 12 and 8 nodes with the 'ReLU' as our activation feature. ReLU is a linear function which will output the input directly if it's positive.ReLU is easier to train and performs better. Sigmoid is for outler layer activation. \n",
    "\n"
   ]
  },
  {
   "cell_type": "markdown",
   "metadata": {},
   "source": [
    "While compiling we implemented loss as 'binary_crossentropy' , which is beneficial for binary classificaiton problems.Adam is used an optimizer to determine the gradient descent for problem.It is commonly used for natural language processing. "
   ]
  },
  {
   "cell_type": "code",
   "execution_count": 27,
   "metadata": {},
   "outputs": [],
   "source": [
    "def run_ffnn(features, labels, model):\n",
    "    X_train, X_test, y_train, y_test = train_test_split(\n",
    "        features, labels, test_size=0.33, random_state=42)\n",
    "\n",
    "    history = model.fit(X_train, y_train , validation_split = 0.33, epochs = 10 , batch_size = 10)\n",
    "    loss, accuracy = model.evaluate(X_test, y_test)\n",
    "    #the lower the loss the closer our predicitons are to the  labels \n",
    "    print(\"Loss = \", loss)\n",
    "    print(\"Accuracy = \", accuracy)\n",
    "    \n",
    "    \n",
    "    #to plot accuracy\n",
    "    plt.plot(history.history['accuracy'])\n",
    "    plt.plot(history.history['val_accuracy'])\n",
    "    plt.title('Model for Accuracies on Training and Testing set ')\n",
    "    plt.ylabel('Accuracy')\n",
    "    plt.xlabel('Epochs')\n",
    "    plt.legend(['Training', 'Testing'], loc = 'upper left')\n",
    "    plt.show()\n",
    "    \n",
    "    #to plot loss \n",
    "    plt.plot(history.history['loss'])\n",
    "    plt.plot(history.history['val_loss'])\n",
    "    plt.title('Model for Loss ')\n",
    "    plt.ylabel('Loss ')\n",
    "    plt.xlabel('Epochs')\n",
    "    plt.legend(['Training Loss ', 'Testing Loss'], loc = 'upper left')\n",
    "    plt.show()\n",
    "   \n",
    "    #history object records training metrics for each epochs basically stores the variables \n",
    "    #validation split is our test size \n",
    "    #more epochs is better accuracy"
   ]
  },
  {
   "cell_type": "code",
   "execution_count": 19,
   "metadata": {},
   "outputs": [],
   "source": [
    "df = getDF('Video_Games_5.json.gz')\n",
    "max_features = 10000\n",
    "features, labels = select_features(df, max_features)\n",
    "\n",
    "# generate a vocabulary (bag of words) for a given set of text features \n",
    "bow_model = create_bow_model(features, max_features)\n",
    "features_bow = generate_bow(features, max_features, bow_model)"
   ]
  },
  {
   "cell_type": "code",
   "execution_count": 17,
   "metadata": {},
   "outputs": [
    {
     "output_type": "stream",
     "name": "stdout",
     "text": [
      "Accuracy on Random Forest =  0.917952084017066\n"
     ]
    }
   ],
   "source": [
    "random_forest_score = run_random_forest(features_bow, labels)\n",
    "print(\"Accuracy on Random Forest = \", random_forest_score)"
   ]
  },
  {
   "cell_type": "code",
   "execution_count": 25,
   "metadata": {},
   "outputs": [
    {
     "output_type": "stream",
     "name": "stdout",
     "text": [
      "Accuracy on Decision Tree =  0.8807274023890177\n"
     ]
    }
   ],
   "source": [
    "decision_tree_score = run_decision_tree(features_bow, labels)\n",
    "print(\"Accuracy on Decision Tree = \" , decision_tree_score)"
   ]
  },
  {
   "cell_type": "code",
   "execution_count": 21,
   "metadata": {},
   "outputs": [
    {
     "name": "stdout",
     "output_type": "stream",
     "text": [
      "Train on 4488 samples, validate on 2212 samples\n",
      "Epoch 1/10\n",
      "4488/4488 [==============================] - 1s 217us/step - loss: 0.4397 - accuracy: 0.8420 - val_loss: 0.3520 - val_accuracy: 0.8409\n",
      "Epoch 2/10\n",
      "4488/4488 [==============================] - 1s 188us/step - loss: 0.2362 - accuracy: 0.8993 - val_loss: 0.5352 - val_accuracy: 0.8590\n",
      "Epoch 3/10\n",
      "4488/4488 [==============================] - 1s 187us/step - loss: 0.1491 - accuracy: 0.9494 - val_loss: 0.4482 - val_accuracy: 0.8657\n",
      "Epoch 4/10\n",
      "4488/4488 [==============================] - 1s 187us/step - loss: 0.0775 - accuracy: 0.9768 - val_loss: 0.5443 - val_accuracy: 0.8644\n",
      "Epoch 5/10\n",
      "4488/4488 [==============================] - 1s 190us/step - loss: 0.0455 - accuracy: 0.9884 - val_loss: 0.5834 - val_accuracy: 0.8621\n",
      "Epoch 6/10\n",
      "4488/4488 [==============================] - 1s 190us/step - loss: 0.0309 - accuracy: 0.9929 - val_loss: 0.6769 - val_accuracy: 0.8558\n",
      "Epoch 7/10\n",
      "4488/4488 [==============================] - 1s 198us/step - loss: 0.0208 - accuracy: 0.9953 - val_loss: 0.7298 - val_accuracy: 0.8571\n",
      "Epoch 8/10\n",
      "4488/4488 [==============================] - 1s 187us/step - loss: 0.0242 - accuracy: 0.9935 - val_loss: 0.7752 - val_accuracy: 0.8486\n",
      "Epoch 9/10\n",
      "4488/4488 [==============================] - 1s 184us/step - loss: 0.0462 - accuracy: 0.9900 - val_loss: 0.8574 - val_accuracy: 0.8495\n",
      "Epoch 10/10\n",
      "4488/4488 [==============================] - 1s 196us/step - loss: 0.0871 - accuracy: 0.9846 - val_loss: 0.7657 - val_accuracy: 0.8504\n",
      "3300/3300 [==============================] - 0s 60us/step\n",
      "Loss =  0.7989032331763795\n",
      "Accuracy =  0.864242434501648\n",
      "dict_keys(['val_loss', 'val_accuracy', 'loss', 'accuracy'])\n"
     ]
    },
    {
     "data": {
      "image/png": "[encoded data removed]",
      "text/plain": [
       "<Figure size 432x288 with 1 Axes>"
      ]
     },
     "metadata": {
      "needs_background": "light"
     },
     "output_type": "display_data"
    },
    {
     "data": {
      "image/png": "[encoded data removed]",
      "text/plain": [
       "<Figure size 432x288 with 1 Axes>"
      ]
     },
     "metadata": {
      "needs_background": "light"
     },
     "output_type": "display_data"
    }
   ],
   "source": [
    "# ffed forward neural network model \n",
    "\n",
    "nn_model = build_nn_model()\n",
    "run_ffnn(features_bow, labels, nn_model)\n"
   ]
  },
  {
   "cell_type": "code",
   "execution_count": null,
   "metadata": {},
   "outputs": [],
   "source": [
    "df = getDF('Movies_and_TV_5.json.gz')\n",
    "max_features = 10000\n",
    "features, labels = select_features(df, max_features)\n",
    "\n",
    "# generate a vocabulary (bag of words) for a given set of text features \n",
    "bow_model = create_bow_model(features, max_features)\n",
    "features_bow = generate_bow(features, max_features, bow_model)"
   ]
  },
  {
   "cell_type": "code",
   "execution_count": 22,
   "metadata": {},
   "outputs": [
    {
     "name": "stdout",
     "output_type": "stream",
     "text": [
      "0.9031182257795564\n"
     ]
    }
   ],
   "source": [
    "random_forest_score = run_random_forest(features_bow, labels)\n",
    "print(\"Accuracy on Random Forest \" , random_forest_score)"
   ]
  },
  {
   "cell_type": "code",
   "execution_count": 26,
   "metadata": {},
   "outputs": [
    {
     "name": "stdout",
     "output_type": "stream",
     "text": [
      "Accuracy on Decision Tree =  0.8807274023890177\n"
     ]
    }
   ],
   "source": [
    "decision_tree_score = run_decision_tree(features_bow, labels)\n",
    "print(\"Accuracy on Decision Tree = \" , decision_tree_score)"
   ]
  },
  {
   "cell_type": "code",
   "execution_count": 26,
   "metadata": {},
   "outputs": [
    {
     "name": "stdout",
     "output_type": "stream",
     "text": [
      "Train on 4488 samples, validate on 2212 samples\n",
      "Epoch 1/10\n",
      "4488/4488 [==============================] - 1s 249us/step - loss: 0.4920 - accuracy: 0.8393 - val_loss: 0.3964 - val_accuracy: 0.8413\n",
      "Epoch 2/10\n",
      "4488/4488 [==============================] - 1s 240us/step - loss: 0.2968 - accuracy: 0.8821 - val_loss: 0.3803 - val_accuracy: 0.8635\n",
      "Epoch 3/10\n",
      "4488/4488 [==============================] - 1s 241us/step - loss: 0.1707 - accuracy: 0.9396 - val_loss: 0.4035 - val_accuracy: 0.8689\n",
      "Epoch 4/10\n",
      "4488/4488 [==============================] - 1s 250us/step - loss: 0.1042 - accuracy: 0.9666 - val_loss: 0.6547 - val_accuracy: 0.8626\n",
      "Epoch 5/10\n",
      "4488/4488 [==============================] - 1s 257us/step - loss: 0.0675 - accuracy: 0.9811 - val_loss: 0.5898 - val_accuracy: 0.8630\n",
      "Epoch 6/10\n",
      "4488/4488 [==============================] - 1s 240us/step - loss: 0.0478 - accuracy: 0.9869 - val_loss: 0.6762 - val_accuracy: 0.8621\n",
      "Epoch 7/10\n",
      "4488/4488 [==============================] - 1s 255us/step - loss: 0.0301 - accuracy: 0.9931 - val_loss: 0.7005 - val_accuracy: 0.8603\n",
      "Epoch 8/10\n",
      "4488/4488 [==============================] - 1s 315us/step - loss: 0.0427 - accuracy: 0.9913 - val_loss: 0.7806 - val_accuracy: 0.8549\n",
      "Epoch 9/10\n",
      "4488/4488 [==============================] - 2s 370us/step - loss: 0.0223 - accuracy: 0.9944 - val_loss: 0.8428 - val_accuracy: 0.8513\n",
      "Epoch 10/10\n",
      "4488/4488 [==============================] - 2s 391us/step - loss: 0.0158 - accuracy: 0.9962 - val_loss: 0.9584 - val_accuracy: 0.8522\n",
      "3300/3300 [==============================] - 0s 117us/step\n",
      "Loss =  0.896940271273594\n",
      "Accuracy =  0.8669697046279907\n",
      "dict_keys(['val_loss', 'val_accuracy', 'loss', 'accuracy'])\n"
     ]
    },
    {
     "data": {
      "image/png": "[encoded data removed]",
      "text/plain": [
       "<Figure size 432x288 with 1 Axes>"
      ]
     },
     "metadata": {
      "needs_background": "light"
     },
     "output_type": "display_data"
    },
    {
     "data": {
      "image/png": "[encoded data removed]",
      "text/plain": [
       "<Figure size 432x288 with 1 Axes>"
      ]
     },
     "metadata": {
      "needs_background": "light"
     },
     "output_type": "display_data"
    }
   ],
   "source": [
    "nn_model = build_nn_model()\n",
    "run_ffnn(features_bow, labels, nn_model)"
   ]
  },
  {
   "cell_type": "markdown",
   "metadata": {},
   "source": [
    "## References "
   ]
  },
  {
   "cell_type": "markdown",
   "metadata": {},
   "source": [
    "1. Malik,Usman.\"Python for NLP: Movie Sentiment Analysis using Deep Learning in Keras.\" Stack Abuse.https://stackabuse.com/python-for-nlp-movie-sentiment-analysis-using-deep-learning-in-keras/. December 7, 2020.\n",
    "\n",
    "\n",
    "2. Dumbleton,Rob.\"Complete Guide to Sentiment analysis: Updated 2020\".Insights by Thematic.https://getthematic.com/insights/sentiment-analysis/. December 7, 2020.\n",
    "\n",
    "\n",
    "3. Das, Deepak.\"Social Media Sentiment Analysis using Machine Learning: Part-1\".towards data science. Sep 6, 2019.https://towardsdatascience.com/social-media-sentiment-analysis-49b395771197. December 7, 2020.\n",
    "\n",
    "\n",
    "4.  Das, Deepak.\"Social Media Sentiment Analysis using Machine Learning: Part-2\".towards data science. Sep 22, 2019.https://towardsdatascience.com/social-media-sentiment-analysis-49b395771197. December 7, 2020.\n",
    "\n",
    "\n",
    "5. Brownless,Jason.\"How to Develop a Deep Learning Bag-of-Words Model for Sentiment Analysis(Text Classification)\". Machine Learning Mastery, October 20,2017.https://machinelearningmastery.com/deep-learning-bag-of-words-model-sentiment-analysis/. December 7, 2020.\n",
    "\n",
    "\n",
    "6. \"Text Classification with Sentimental Analysis    \".     https://www.samyzaf.com/ML/imdb/imdb.html. December 7,2020.\n",
    "\n",
    "\n",
    "7. McCaffrey,James.\"Sentiment Analysis Using Keras\". Visual Studio Magazine, November 15, 2018. https://visualstudiomagazine.com/articles/2018/11/01/sentiment-analysis-using-keras.aspx. December 7, 2020\n",
    "\n",
    "\n",
    "8. Brownlee,Jason.\"Your First Deep Learning Project in Python with Keras Step-By-Step\".Machine Learning Mastery, July 24,2019. https://machinelearningmastery.com/tutorial-first-neural-network-python-keras/. December 8, 2020.\n",
    "\n",
    "\n",
    "9. Zhou,Victor.\"Keras for Beginners: Building Your First Neural Network\". Victor Zhou/Blogs, June 14,2019.https://victorzhou.com/blog/keras-neural-network-tutorial/. December 8, 2020.\n",
    "\n",
    "\n",
    "10. Jianmo Ni, Jiacheng Li, Julian McAuley,Empirical Methods in Natural Language Processing (EMNLP), 2019.https://nijianmo.github.io/amazon/index.html. November 21,2020.\n",
    "\n",
    "\n",
    "11. Opperman, Artem.\"Sentiment Analysis with Deep Learning of Netflix Reviews\".towards data science, Feb 24, 2019 . https://towardsdatascience.com/sentiment-analysis-with-deep-learning-62d4d0166ef6. December 7th, 2020.\n",
    "\n",
    "12. Brownless,Jason.\"Display Deep Learning Model Training History in Keras\".Machine Learning Mastery, October 3,2019. https://machinelearningmastery.com/display-deep-learning-model-training-history-in-keras/. December 7, 2020. \n",
    "\n",
    "\n",
    "13. \"Feedforward neural networks 1. What is feedforward neural network ?\",26th April,2004. https://www.fon.hum.uva.nl/praat/manual/Feedforward_neural_networks_1__What_is_a_feedforward_ne.html. 7th December 2020.\n",
    "\n",
    "\n",
    "14. Gupta,Tushar.\"Deep Learning: FeedForward Neural Network\".towards data science, Jan 4, 2017. https://towardsdatascience.com/deep-learning-feedforward-neural-network-26a6705dbdc7. December 7, 2020.\n",
    "\n",
    "\n",
    "15. \"Sentimen Analysis: A Definite Guide\". MonkeyLearn. https://monkeylearn.com/sentiment-analysis/. December 7, 2020.\n",
    "\n",
    "\n"
   ]
  },
  {
   "cell_type": "code",
   "execution_count": null,
   "metadata": {},
   "outputs": [],
   "source": []
  }
 ],
 "metadata": {
  "kernelspec": {
   "display_name": "Python 3",
   "language": "python",
   "name": "python3"
  },
  "language_info": {
   "codemirror_mode": {
    "name": "ipython",
    "version": 3
   },
   "file_extension": ".py",
   "mimetype": "text/x-python",
   "name": "python",
   "nbconvert_exporter": "python",
   "pygments_lexer": "ipython3",
   "version": "3.8.5-final"
  }
 },
 "nbformat": 4,
 "nbformat_minor": 4
}