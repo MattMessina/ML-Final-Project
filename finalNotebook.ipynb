{
 "cells": [
  {
   "cell_type": "code",
   "execution_count": 17,
   "metadata": {},
   "outputs": [
    {
     "output_type": "display_data",
     "data": {
      "application/javascript": "IPython.notebook.set_autosave_interval(0)"
     },
     "metadata": {}
    },
    {
     "output_type": "stream",
     "name": "stdout",
     "text": [
      "Autosave disabled\n"
     ]
    }
   ],
   "source": [
    "import numpy as np\n",
    "from matplotlib import pylab as plt\n",
    "%autosave 0\n",
    "%matplotlib inline"
   ]
  },
  {
   "cell_type": "code",
   "execution_count": 18,
   "metadata": {},
   "outputs": [],
   "source": [
    "from sklearn.neighbors import KNeighborsClassifier\n",
    "import tensorflow as tf \n",
    "from tensorflow.keras.layers.experimental.preprocessing import TextVectorization"
   ]
  },
  {
   "cell_type": "code",
   "execution_count": 19,
   "metadata": {},
   "outputs": [],
   "source": [
    "import pandas as pd\n",
    "import gzip\n",
    "import json\n",
    "\n",
    "def parse(path):\n",
    "    g = gzip.open(path, 'rb')\n",
    "    for l in g:\n",
    "        yield json.loads(l)\n",
    "\n",
    "def getDF(path):\n",
    "    i = 0\n",
    "    df = {}\n",
    "    for d in parse(path):\n",
    "        df[i] = d\n",
    "        i += 1\n",
    "    return pd.DataFrame.from_dict(df, orient='index')"
   ]
  },
  {
   "cell_type": "code",
   "execution_count": 20,
   "metadata": {},
   "outputs": [],
   "source": [
    "# feature selection\n",
    "def select_features(df, max_features):\n",
    "    X = df['reviewText']\n",
    "    y = df['overall']\n",
    "\n",
    "    features = np.array(X.tolist()[:max_features])\n",
    "    scores = np.array(y.tolist()[:max_features])\n",
    "    \n",
    "    # # shuffle the datasets in the same order\n",
    "    # p = np.random.permutation(max_features)\n",
    "    # features = features[p]\n",
    "    # scores = scores[p]\n",
    "\n",
    "    final_labels = []\n",
    "    \n",
    "    # generate labels\n",
    "    for i in range(len(features)):\n",
    "        if scores[i] >= 3.5:\n",
    "            final_labels.append(1)\n",
    "        else:\n",
    "            final_labels.append(0)\n",
    "    final_labels = np.array(final_labels)\n",
    "    return (features, final_labels)\n"
   ]
  },
  {
   "cell_type": "code",
   "execution_count": 21,
   "metadata": {},
   "outputs": [],
   "source": [
    "def create_bow_model(features, max_features):\n",
    "    # creates an object for each item inside of a given tensor then adds them all into a list\n",
    "    text_dataset = tf.data.Dataset.from_tensor_slices(features)\n",
    "\n",
    "    max_features = max_features  # Maximum vocab size.\n",
    "    max_len = 4  # Sequence length to pad the outputs to.\n",
    "    embedding_dims = 2\n",
    "\n",
    "    # # Create the vectorization layer (layer for generating the bag of words) \n",
    "    vectorize_layer = TextVectorization(\n",
    "    max_tokens=max_features,\n",
    "    output_mode='count')\n",
    "\n",
    "\n",
    "    # # Now that the vocab layer has been created, call `adapt` on the text-only  \n",
    "    # # dataset to create the vocabulary.  \n",
    "    vectorize_layer.adapt(text_dataset.batch(64))\n",
    "    model = tf.keras.models.Sequential()\n",
    "    model.add(tf.keras.Input(shape=(1,), dtype=tf.string))\n",
    "    model.add(vectorize_layer)\n",
    "\n",
    "    return model"
   ]
  },
  {
   "cell_type": "code",
   "execution_count": 22,
   "metadata": {},
   "outputs": [],
   "source": [
    "#generate bag of words from selected features\n",
    "def generate_bow(features, max_features, model):\n",
    "    input_data = features\n",
    "    input_data.shape = (max_features, 1)\n",
    "    features_bow = model.predict(input_data)\n",
    "    return features_bow"
   ]
  },
  {
   "cell_type": "code",
   "execution_count": 23,
   "metadata": {},
   "outputs": [],
   "source": [
    "from sklearn.model_selection import train_test_split\n",
    "from sklearn.ensemble import RandomForestClassifier\n",
    "from sklearn.metrics import f1_score\n",
    "from sklearn.tree import DecisionTreeClassifier"
   ]
  },
  {
   "cell_type": "code",
   "execution_count": 24,
   "metadata": {},
   "outputs": [],
   "source": [
    "def run_random_forest(features, labels):\n",
    "    classifier = RandomForestClassifier(n_estimators=10)\n",
    "    X_train, X_test, y_train, y_test = train_test_split(features, labels, test_size=0.33, random_state=42)\n",
    "\n",
    "    classifier.fit(X_train, y_train)\n",
    "\n",
    "    y_pred = classifier.predict_proba(X_test)\n",
    "    #calculate f1 scores\n",
    "    y_pred=y_pred[:,1]>=0.3\n",
    "    y_pred_int = y_pred.astype(np.int)\n",
    "    score = f1_score(y_test, y_pred_int)\n",
    "\n",
    "    return score"
   ]
  },
  {
   "cell_type": "code",
   "execution_count": 25,
   "metadata": {},
   "outputs": [],
   "source": [
    "def run_decision_tree(features, labels):\n",
    "    X_train, X_test, y_train, y_test = train_test_split(\n",
    "        features, labels, test_size=0.33, random_state=42)\n",
    "\n",
    "    nc = DecisionTreeClassifier(random_state = 2)\n",
    "    nc.fit(X_train,y_train)\n",
    "\n",
    "    y_p = nc.predict(X_test)\n",
    "    return np.mean(y_p)\n"
   ]
  },
  {
   "cell_type": "code",
   "execution_count": 26,
   "metadata": {},
   "outputs": [],
   "source": [
    "from keras.preprocessing import sequence\n",
    "from keras.models import Sequential\n",
    "from keras.layers import Dense, Dropout, Activation\n",
    "from keras.layers import Embedding\n",
    "from keras.layers import Convolution1D, GlobalMaxPooling1D"
   ]
  },
  {
   "cell_type": "code",
   "execution_count": 27,
   "metadata": {},
   "outputs": [],
   "source": [
    "def build_nn_model():\n",
    "    model = Sequential()\n",
    "    #he taught us in class about relu it is more commonly used\n",
    "    #sigmoid is used for the output layer\n",
    "    #dense is basically adding layers to yout model for better input and output\n",
    "    model.add(Dense(12, activation = 'relu'))\n",
    "    model.add(Dense(1, activation = 'sigmoid'))\n",
    "\n",
    "    #binary_cross used for binary classificaiton problems\n",
    "    # adam = for gradient descent \n",
    "    #metric because this is a classificaiton problem \n",
    "    model.compile(loss='binary_crossentropy', optimizer='adam', metrics=['accuracy'])\n",
    "    return model"
   ]
  },
  {
   "cell_type": "code",
   "execution_count": 28,
   "metadata": {},
   "outputs": [],
   "source": [
    "def run_ffnn(features, labels, model):\n",
    "    X_train, X_test, y_train, y_test = train_test_split(\n",
    "        features, labels, test_size=0.33, random_state=42)\n",
    "\n",
    "    model.fit(X_train, y_train , epochs = 10 , batch_size = 10)\n",
    "    loss, accuracy = model.evaluate(X_test, y_test)\n",
    "    #the lower the loss the closer our predicitons are to the  labels \n",
    "    print(loss, accuracy)"
   ]
  },
  {
   "cell_type": "code",
   "execution_count": 29,
   "metadata": {},
   "outputs": [],
   "source": [
    "df = getDF('Video_Games_5.json.gz')\n",
    "max_features = 10000\n",
    "features, labels = select_features(df, max_features)\n",
    "\n",
    "# generate a vocabulary (bag of words) for a given set of text features \n",
    "bow_model = create_bow_model(features, max_features)\n",
    "features_bow = generate_bow(features, max_features, bow_model)"
   ]
  },
  {
   "cell_type": "code",
   "execution_count": 30,
   "metadata": {},
   "outputs": [
    {
     "output_type": "stream",
     "name": "stdout",
     "text": [
      "0.917952084017066\n"
     ]
    }
   ],
   "source": [
    "random_forest_score = run_random_forest(features_bow, labels)\n",
    "print(random_forest_score)"
   ]
  },
  {
   "cell_type": "code",
   "execution_count": 31,
   "metadata": {},
   "outputs": [
    {
     "output_type": "stream",
     "name": "stdout",
     "text": [
      "0.8521212121212122\n"
     ]
    }
   ],
   "source": [
    "decision_tree_score = run_decision_tree(features_bow, labels)\n",
    "print(decision_tree_score)"
   ]
  },
  {
   "cell_type": "code",
   "execution_count": 32,
   "metadata": {},
   "outputs": [
    {
     "output_type": "stream",
     "name": "stdout",
     "text": [
      "Epoch 1/10\n",
      "670/670 [==============================] - 1s 2ms/step - loss: 0.4038 - accuracy: 0.8410\n",
      "Epoch 2/10\n",
      "670/670 [==============================] - 1s 2ms/step - loss: 0.2668 - accuracy: 0.8416\n",
      "Epoch 3/10\n",
      "670/670 [==============================] - 1s 2ms/step - loss: 0.2134 - accuracy: 0.8990\n",
      "Epoch 4/10\n",
      "670/670 [==============================] - 1s 2ms/step - loss: 0.1427 - accuracy: 0.9485\n",
      "Epoch 5/10\n",
      "670/670 [==============================] - 1s 2ms/step - loss: 0.0931 - accuracy: 0.9696\n",
      "Epoch 6/10\n",
      "670/670 [==============================] - 1s 2ms/step - loss: 0.0664 - accuracy: 0.9816\n",
      "Epoch 7/10\n",
      "670/670 [==============================] - 1s 2ms/step - loss: 0.0525 - accuracy: 0.9855\n",
      "Epoch 8/10\n",
      "670/670 [==============================] - 1s 2ms/step - loss: 0.0376 - accuracy: 0.9913\n",
      "Epoch 9/10\n",
      "670/670 [==============================] - 1s 2ms/step - loss: 0.0293 - accuracy: 0.9936\n",
      "Epoch 10/10\n",
      "670/670 [==============================] - 1s 2ms/step - loss: 0.0244 - accuracy: 0.9946\n",
      "104/104 [==============================] - 0s 2ms/step - loss: 0.6846 - accuracy: 0.8691\n",
      "0.6846424341201782 0.8690909147262573\n"
     ]
    }
   ],
   "source": [
    "nn_model = build_nn_model()\n",
    "run_ffnn(features_bow, labels, nn_model)"
   ]
  }
 ],
 "metadata": {
  "kernelspec": {
   "display_name": "Python 3",
   "language": "python",
   "name": "python3"
  },
  "language_info": {
   "codemirror_mode": {
    "name": "ipython",
    "version": 3
   },
   "file_extension": ".py",
   "mimetype": "text/x-python",
   "name": "python",
   "nbconvert_exporter": "python",
   "pygments_lexer": "ipython3",
   "version": "3.8.5-final"
  }
 },
 "nbformat": 4,
 "nbformat_minor": 4
}