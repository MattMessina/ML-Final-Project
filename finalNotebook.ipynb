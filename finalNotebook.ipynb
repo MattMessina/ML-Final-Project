{
 "cells": [
  {
   "cell_type": "code",
   "execution_count": 93,
   "metadata": {},
   "outputs": [
    {
     "output_type": "display_data",
     "data": {
      "application/javascript": "IPython.notebook.set_autosave_interval(0)"
     },
     "metadata": {}
    },
    {
     "output_type": "stream",
     "name": "stdout",
     "text": [
      "Autosave disabled\n"
     ]
    }
   ],
   "source": [
    "import numpy as np\n",
    "from matplotlib import pylab as plt\n",
    "%autosave 0\n",
    "%matplotlib inline"
   ]
  },
  {
   "cell_type": "code",
   "execution_count": 94,
   "metadata": {},
   "outputs": [],
   "source": [
    "from sklearn.neighbors import KNeighborsClassifier\n",
    "import tensorflow as tf \n",
    "from tensorflow.keras.layers.experimental.preprocessing import TextVectorization\n"
   ]
  },
  {
   "cell_type": "code",
   "execution_count": 95,
   "metadata": {},
   "outputs": [],
   "source": [
    "import pandas as pd\n",
    "import gzip\n",
    "import json\n",
    "\n",
    "def parse(path):\n",
    "    g = gzip.open(path, 'rb')\n",
    "    for l in g:\n",
    "        yield json.loads(l)\n",
    "\n",
    "def getDF(path):\n",
    "    i = 0\n",
    "    df = {}\n",
    "    for d in parse(path):\n",
    "        df[i] = d\n",
    "        i += 1\n",
    "    return pd.DataFrame.from_dict(df, orient='index')\n",
    "\n",
    "df = getDF('./Video_Games_5.json.gz')\n",
    "\n"
   ]
  },
  {
   "cell_type": "code",
   "execution_count": 96,
   "metadata": {
    "tags": []
   },
   "outputs": [],
   "source": [
    "# feature selection\n",
    "\n",
    "X = df['reviewText']\n",
    "y = df['overall']\n",
    "\n",
    "features = X.tolist()[:20000]\n",
    "scores = y.tolist()[:20000]\n",
    "\n",
    "final_labels = []\n",
    "\n",
    "\n",
    "for i in range(len(features)):\n",
    "    if scores[i] >= 3.5:\n",
    "        final_labels.append(1)\n",
    "    else:\n",
    "        final_labels.append(0)"
   ]
  },
  {
   "source": [
    "Vectorize all of the reviews using bag of words\n",
    "- Keras vectorization implementation: https://keras.io/api/layers/preprocessing_layers/core_preprocessing_layers/text_vectorization/\n",
    "- Overview of algorithm by Google Cloud Platform: https://www.youtube.com/watch?v=UFtXy0KRxVI"
   ],
   "cell_type": "markdown",
   "metadata": {}
  },
  {
   "cell_type": "code",
   "execution_count": 97,
   "metadata": {
    "tags": []
   },
   "outputs": [],
   "source": [
    "# Shuffle the original features array for building the vocabulary\n",
    "vocab_set = np.array(X.tolist()[20000:40000])\n",
    "np.random.shuffle(vocab_set)\n",
    "\n",
    "# creates an object for each item inside of a given tensor, then adds them all into a list\n",
    "text_dataset = tf.data.Dataset.from_tensor_slices(vocab_set)\n",
    "\n",
    "max_features = 20000  # Maximum vocab size.\n",
    "max_len = 4  # Sequence length to pad the outputs to.\n",
    "embedding_dims = 2\n",
    "\n",
    "# # Create the layer.  \n",
    "vectorize_layer = TextVectorization(\n",
    "max_tokens=max_features,\n",
    "output_mode='count')\n",
    "\n",
    "\n",
    "# # Now that the vocab layer has been created, call `adapt` on the text-only  \n",
    "# # dataset to create the vocabulary. You don't have to batch, but for large  \n",
    "# # datasets this means we're not keeping spare copies of the dataset.  \n",
    "vectorize_layer.adapt(text_dataset.batch(64))\n",
    "model = tf.keras.models.Sequential()\n",
    "model.add(tf.keras.Input(shape=(1,), dtype=tf.string))\n",
    "model.add(vectorize_layer)"
   ]
  },
  {
   "cell_type": "code",
   "execution_count": 98,
   "metadata": {
    "tags": []
   },
   "outputs": [
    {
     "output_type": "execute_result",
     "data": {
      "text/plain": [
       "(20000, 20000)"
      ]
     },
     "metadata": {},
     "execution_count": 98
    }
   ],
   "source": [
    "input_data = np.array([])\n",
    "stop = 0\n",
    "for item in text_dataset:\n",
    "    if stop == max_features:\n",
    "        break\n",
    "    input_data = np.append(input_data, np.array(item))\n",
    "    stop += 1\n",
    "\n",
    "features = model.predict(input_data)\n",
    "features.shape\n"
   ]
  },
  {
   "source": [
    "Features obtained from the predict function above will be used with the classifiers"
   ],
   "cell_type": "markdown",
   "metadata": {}
  },
  {
   "cell_type": "code",
   "execution_count": 99,
   "metadata": {},
   "outputs": [
    {
     "output_type": "stream",
     "name": "stdout",
     "text": [
      "(20000, 20000)\n(20000,)\n"
     ]
    },
    {
     "output_type": "execute_result",
     "data": {
      "text/plain": [
       "0.9065606361829026"
      ]
     },
     "metadata": {},
     "execution_count": 99
    }
   ],
   "source": [
    "from sklearn.model_selection import train_test_split\n",
    "from sklearn.ensemble import RandomForestClassifier\n",
    "from sklearn.metrics import confusion_matrix\n",
    "from sklearn.model_selection import cross_val_score\n",
    "from sklearn.metrics import f1_score\n",
    "\n",
    "final_labels = np.array(final_labels)\n",
    "\n",
    "print(features.shape)\n",
    "print(final_labels.shape)\n",
    "\n",
    "classifier = RandomForestClassifier(n_estimators=10)\n",
    "\n",
    "\n",
    "X_train, X_test, y_train, y_test = train_test_split(features, final_labels, test_size=0.33, random_state=42)\n",
    "\n",
    "classifier.fit(X_train, y_train)\n",
    "\n",
    "y_pred = classifier.predict_proba(X_test)\n",
    "#calculate f1 scores\n",
    "\n",
    "# if probability that \n",
    "y_pred=y_pred[:,1]>=0.3\n",
    "y_pred_int = y_pred.astype(np.int)\n",
    "score = f1_score(y_test, y_pred_int)\n",
    "score\n"
   ]
  },
  {
   "cell_type": "code",
   "execution_count": null,
   "metadata": {},
   "outputs": [],
   "source": []
  }
 ],
 "metadata": {
  "kernelspec": {
   "display_name": "Python 3",
   "language": "python",
   "name": "python3"
  },
  "language_info": {
   "codemirror_mode": {
    "name": "ipython",
    "version": 3
   },
   "file_extension": ".py",
   "mimetype": "text/x-python",
   "name": "python",
   "nbconvert_exporter": "python",
   "pygments_lexer": "ipython3",
   "version": "3.8.5-final"
  }
 },
 "nbformat": 4,
 "nbformat_minor": 4
}