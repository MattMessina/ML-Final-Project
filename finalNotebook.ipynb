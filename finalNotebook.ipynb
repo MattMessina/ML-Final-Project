{
 "cells": [
  {
   "cell_type": "code",
   "execution_count": 43,
   "metadata": {},
   "outputs": [
    {
     "data": {
      "application/javascript": [
       "IPython.notebook.set_autosave_interval(0)"
      ]
     },
     "metadata": {},
     "output_type": "display_data"
    },
    {
     "name": "stdout",
     "output_type": "stream",
     "text": [
      "Autosave disabled\n"
     ]
    }
   ],
   "source": [
    "import numpy as np\n",
    "from matplotlib import pylab as plt\n",
    "%autosave 0\n",
    "%matplotlib inline"
   ]
  },
  {
   "cell_type": "markdown",
   "metadata": {},
   "source": [
    "We have used Amazon Review Datasets since the individual files are large. We have attached those files in the following google drive link. https://drive.google.com/drive/folders/1kBEUbkpR6iy1QOavkOGPo8Zl6Ai4FoTf?usp=sharing"
   ]
  },
  {
   "cell_type": "markdown",
   "metadata": {},
   "source": [
    "# Sentimental Analysis (Introduction)"
   ]
  },
  {
   "cell_type": "markdown",
   "metadata": {},
   "source": [
    "### What is Sentimental Analysis?"
   ]
  },
  {
   "cell_type": "markdown",
   "metadata": {},
   "source": [
    "Sentimental Analysis (aka \"Opinion Mining\") is the technique of analyzing the natural language used in subjective text-data to perceive and identify emotions. To classify a person's sentiment toward a particular subject brought up via survey responses, reviews, social media posts, email, or any other kind of textual sample, we typically generate a vocabulary based off of any relevant words used in said sample. We can then utilize that vocabulary to make classifications regarding how positive or negative the sentiment of a particular text sample is."
   ]
  },
  {
   "cell_type": "markdown",
   "metadata": {},
   "source": [
    "### Basic Classification Example"
   ]
  },
  {
   "cell_type": "markdown",
   "metadata": {},
   "source": [
    "| Customer Feedback       | Sentiment | \n",
    "| ---                     | ---       |\n",
    "|\"An amazing product for a great price\" | Positive |\n",
    "|\"This product is not worth the price\" | Negative |\n",
    "\n",
    "\n",
    "\n"
   ]
  },
  {
   "cell_type": "markdown",
   "metadata": {},
   "source": [
    "### Why use Sentimental Analysis?"
   ]
  },
  {
   "cell_type": "markdown",
   "metadata": {},
   "source": [
    "In our modern environment, many companies, especially those that do business on the internet, need to sift through potentially thousands of user reviews in order to get a general idea of the sentiment toward a product. It is not usually feasible for a human to manually review that data and this is where sentiment analysis and machine learning come into play. By running product reviews through sentiment analysis and machine learning algorithms, companies can gain a general understanding of consumer sentiment and make important design decisions about a current or future product. Sentimental Analysis can also be utilized in making investment decisions on the stock market by analyzing news sources and social media to gain an understanding of how other people feel about a particular security."
   ]
  },
  {
   "cell_type": "markdown",
   "metadata": {},
   "source": [
    "### Our approach"
   ]
  },
  {
   "cell_type": "markdown",
   "metadata": {},
   "source": [
    "\n",
    "For our project, we decided to perform sentimental analysis on a couple of Amazon review datasets, each of which containing over 100,000 different user reviews, along with their scores out of 5. When generating our target values, we considered a review to be \"positive\" if it had a score of 3.5 or above, and any review with a score less than 3.5 was considered to be negative.  \n",
    "\n",
    "The baseline classifiers that we chose were Random Forest and Decision Trees, and we compared their performance to that of a feed forward neural network. We found that the f1 score for the Random Forest classifier on the video game review dataset to be approximately 0.90. Our decision tree outputted an average f1 score of 0.83.  The neural network actually ended up performing very similarly to the decision tree with an average accuracy of .85. Out of the three different classifiers that we tested, Random Forest seemed to perform the best on a consistent basis, regardless of the dataset."
   ]
  },
  {
   "cell_type": "markdown",
   "metadata": {},
   "source": [
    "# Feature Extraction and Selection\n",
    "- The following code block is taken from this page: https://nijianmo.github.io/amazon/index.html\n",
    "    - This is also the page where we acquired all of our samples throughout the project\n",
    "- It extracts all of the data from a given json file (must first be extracted from a .gz file) into a pandas dataframe \n"
   ]
  },
  {
   "cell_type": "code",
   "execution_count": 44,
   "metadata": {},
   "outputs": [],
   "source": [
    "from sklearn.neighbors import KNeighborsClassifier\n",
    "import tensorflow as tf \n",
    "from tensorflow.keras.layers.experimental.preprocessing import TextVectorization\n"
   ]
  },
  {
   "cell_type": "code",
   "execution_count": 45,
   "metadata": {},
   "outputs": [],
   "source": [
    "import pandas as pd\n",
    "import gzip\n",
    "import json\n",
    "\n",
    "def parse(path):\n",
    "    g = gzip.open(path, 'rb')\n",
    "    for l in g:\n",
    "        yield json.loads(l)\n",
    "\n",
    "def getDF(path):\n",
    "    i = 0\n",
    "    df = {}\n",
    "    for d in parse(path):\n",
    "        df[i] = d\n",
    "        i += 1\n",
    "    return pd.DataFrame.from_dict(df, orient='index')"
   ]
  },
  {
   "cell_type": "markdown",
   "metadata": {},
   "source": [
    "- Since all of our datasets contain 100,000+ samples, we only extract the specified number of features (max_features) into our featuresets\n",
    "- Here, we are also defining labels for our features\n",
    "    - If a review has a score of 3.5 or greater, we consider it a positive review (represented as a 1)\n",
    "    - Otherwise, if a review has a score less than 3.5 we consider it negative (represented as a 0)"
   ]
  },
  {
   "cell_type": "code",
   "execution_count": 46,
   "metadata": {},
   "outputs": [],
   "source": [
    "# feature selection\n",
    "def select_features(df, max_features):\n",
    "    X = df['reviewText']\n",
    "    y = df['overall']\n",
    "\n",
    "    features = np.array(X.tolist()[:max_features])\n",
    "    scores = np.array(y.tolist()[:max_features])\n",
    "    \n",
    "    # # shuffle the datasets in the same order\n",
    "    # p = np.random.permutation(max_features)\n",
    "    # features = features[p]\n",
    "    # scores = scores[p]\n",
    "\n",
    "    final_labels = []\n",
    "    \n",
    "    # generate labels\n",
    "    for i in range(len(features)):\n",
    "        if scores[i] >= 3.5:\n",
    "            final_labels.append(1)\n",
    "        else:\n",
    "            final_labels.append(0)\n",
    "    final_labels = np.array(final_labels)\n",
    "    return (features, final_labels)\n"
   ]
  },
  {
   "cell_type": "markdown",
   "metadata": {},
   "source": [
    "# Vocabulary Generation (Bag of Words)\n",
    "The following block of code is partially taken from: https://keras.io/api/layers/preprocessing_layers/core_preprocessing_layers/text_vectorization/\n",
    "\n",
    "- The text vectorization technique that we chose to utilize in this project was the \"Bag of Words\" technique\n",
    "    - Bag of Words is a very simple and common word embedding method used on Natural Language Processing \n",
    "        - The algorithm develops a vocabulary for a given set of documents (often referred to as a \"corpus\"), and records the frequency of each word as they appear across said corpus.\n",
    "        - The dataset of word frequencies is then used as the feature-set for training and testing our classifiers \n",
    "- We chose to use Keras' implementation of text vectorization as it provides a simple interface for constructing a bag of words for a given text dataset while still being incredibly flexible.\n",
    "    - This implementation happens to perform a lot of text preprocessing by default in order to remove noise from the dataset \n",
    "        - Converts all words to lower case\n",
    "        - Strips away punctuation\n",
    "        - Splits all of the samples on whitespace\n",
    "- The following function returns a text vectorization model (Bag of Words) that can be adapted to just about any text-dataset."
   ]
  },
  {
   "cell_type": "code",
   "execution_count": 47,
   "metadata": {},
   "outputs": [],
   "source": [
    "def create_bow_model(features, max_features):\n",
    "    # creates an object for each item inside of a given tensor then adds them all into a list\n",
    "    text_dataset = tf.data.Dataset.from_tensor_slices(features)\n",
    "\n",
    "    max_features = max_features  # Maximum vocab size.\n",
    "    max_len = 4  # Sequence length to pad the outputs to.\n",
    "    embedding_dims = 2\n",
    "\n",
    "    # Create the vectorization layer (layer for generating the bag of words) \n",
    "    vectorize_layer = TextVectorization(\n",
    "    max_tokens=max_features,\n",
    "    output_mode='count')\n",
    "\n",
    "    vectorize_layer.adapt(text_dataset.batch(64))\n",
    "    model = tf.keras.models.Sequential()\n",
    "    model.add(tf.keras.Input(shape=(1,), dtype=tf.string))\n",
    "    model.add(vectorize_layer)\n",
    "\n",
    "    return model"
   ]
  },
  {
   "cell_type": "markdown",
   "metadata": {},
   "source": [
    "The following function simply takes in text features and runs them through the vectorization model above."
   ]
  },
  {
   "cell_type": "code",
   "execution_count": 48,
   "metadata": {},
   "outputs": [],
   "source": [
    "#generate bag of words from selected features\n",
    "def generate_bow(features, max_features, model):\n",
    "    input_data = features\n",
    "    input_data.shape = (max_features, 1)\n",
    "    features_bow = model.predict(input_data)\n",
    "    return features_bow"
   ]
  },
  {
   "cell_type": "code",
   "execution_count": 49,
   "metadata": {},
   "outputs": [],
   "source": [
    "from sklearn.model_selection import train_test_split\n",
    "from sklearn.ensemble import RandomForestClassifier\n",
    "from sklearn.metrics import f1_score\n",
    "from sklearn.tree import DecisionTreeClassifier"
   ]
  },
  {
   "cell_type": "markdown",
   "metadata": {},
   "source": [
    "# Baseline Classifiers\n",
    "### Random Forest\n",
    "- One of the baseline classifiers that we chose for comparison with Feed Forward Neural network\n",
    "- Out of all of the baseline classifiers we tried on the review datasets, Random Forest appeared to produce the best F1 score\n",
    "- We decided to go with Scikit Learn's implementation of Random Forest as it gave us the best results\n",
    "    - implementation can be found here: https://scikit-learn.org/stable/modules/generated/sklearn.ensemble.RandomForestClassifier.html\n",
    "    "
   ]
  },
  {
   "cell_type": "code",
   "execution_count": 50,
   "metadata": {},
   "outputs": [],
   "source": [
    "def run_random_forest(features, labels):\n",
    "    classifier = RandomForestClassifier(n_estimators=10)\n",
    "    X_train, X_test, y_train, y_test = train_test_split(features, labels, test_size=0.33, random_state=42)\n",
    "\n",
    "    classifier.fit(X_train, y_train)\n",
    "\n",
    "    y_pred = classifier.predict_proba(X_test)\n",
    "    #calculate f1 scores\n",
    "    y_pred=y_pred[:,1]>=0.3\n",
    "    y_pred_int = y_pred.astype(np.int)\n",
    "    score = f1_score(y_test, y_pred_int)\n",
    "\n",
    "    return score"
   ]
  },
  {
   "cell_type": "markdown",
   "metadata": {},
   "source": [
    "### Decision Tree\n",
    "- We decided to include a second baseline classifier for further comparison\n",
    "- After observing the performance of the Random Forest classifier on our datasets, we decided to see how Decision Trees might perform.\n",
    "- While Random Forest classification utlizes several tree structures, descision trees only make use of a single tree structure. \n",
    "- Overall we expected our Decision Tree to perform worse than the other classifiers\n",
    "    - While the decision tree classifier did not perform quite as well as our Random Forest, it still performed better than expected with f1 scores only marginally lower than our decision tree and Neural Network.\n",
    "- We decided to utilize Scikit Learn's implementation found here: https://scikit-learn.org/stable/modules/generated/sklearn.tree.DecisionTreeClassifier.html"
   ]
  },
  {
   "cell_type": "code",
   "execution_count": 51,
   "metadata": {},
   "outputs": [],
   "source": [
    "def run_decision_tree(features, labels):\n",
    "    X_train, X_test, y_train, y_test = train_test_split(\n",
    "        features, labels, test_size=0.33, random_state=42)\n",
    "\n",
    "    nc = DecisionTreeClassifier(random_state = 2)\n",
    "    nc.fit(X_train,y_train)\n",
    "\n",
    "    y_pred = nc.predict_proba(X_test)\n",
    "    y_pred=y_pred[:,1]>=0.3\n",
    "    y_pred_int = y_pred.astype(np.int)\n",
    "    score = f1_score(y_test, y_pred_int)\n",
    "\n",
    "    return score"
   ]
  },
  {
   "cell_type": "markdown",
   "metadata": {},
   "source": [
    "### Why use F1 scores instead of more traditional measurements of accuracy?\n",
    "\n",
    "- We were finding that a lot of our data was very skewed in one direction over another\n",
    "    - A lot of Datasets had significantly more postive reviews than negative and vice-versa\n",
    "    - We chose to measure the performance of our baseline classifiers using f1 scores, as our classifiers were coming up with a lot of false positives or false negatives\n",
    "- F1 score implementation inspired by this article: https://towardsdatascience.com/social-media-sentiment-analysis-part-ii-bcacca5aaa39"
   ]
  },
  {
   "cell_type": "markdown",
   "metadata": {},
   "source": [
    "# Feed Foward Neural Network "
   ]
  },
  {
   "cell_type": "markdown",
   "metadata": {},
   "source": [
    "### Basic Description\n",
    "A feed forward neural network is a type of neural network classifier where data is fed through a series of \"layers\" in a single direction before reaching an output (hence the name).  These types of neural networks can be represented as a \"directed acyclic graph\" or \"DAG\". It is a classification algorithm where input \"nodes\" are organized in the form of layers. The data is first passed into an \"input\" layer and flows through a series of \"hidden layers\" which run inputs through different functions until it reaches the output node, often referred to as the \"activation function\". Below is an image that gives an idea of the general structure of a typical feed forward neural network. "
   ]
  },
  {
   "cell_type": "markdown",
   "metadata": {},
   "source": [
    "### Explanation of our Neural Network implementation\n",
    "\n",
    "We have implemented a Sequential constructor which, is considered to be a stack of layers. This Sequential constructor consists of Dense Layer which is a standard, profoundly interconnected neural network layer. This Dense layer is used as an output and input parameters. A single Dense Layer represents the output of an activation function. This activation function computes the dot product between the input values and the weight value and then it adds it to the bias for better optimization of the function. Dense Layers are commonly used in neural network architecture. \n",
    "\n",
    "\n",
    "We have three Dense layers the first two have 32 and 12 nodes with the 'ReLU' as our activation feature. These nodes form the layer and help the transfer of data to another layer as in a feed-forward neural network the data is not recognized by the layer before the current layer. Hence there is no feedback among layers. \n",
    "ReLU is a linear function that will output the input directly if it's positive or 1. ReLU is easier to train and performs better. Sigmoid is for the outer layer activation. The sigmoid is a logistic function that computes the probably for the problem. It displays values between 0 and 1 and is widely used for Sentiment Analysis."
   ]
  },
  {
   "cell_type": "code",
   "execution_count": 52,
   "metadata": {},
   "outputs": [],
   "source": [
    "from keras.preprocessing import sequence\n",
    "from keras.models import Sequential\n",
    "from keras.layers import Dense, Dropout, Activation\n",
    "from keras.layers import Embedding\n",
    "from keras.layers import Convolution1D, GlobalMaxPooling1D"
   ]
  },
  {
   "cell_type": "code",
   "execution_count": 59,
   "metadata": {},
   "outputs": [],
   "source": [
    "def build_nn_model():\n",
    "    model = Sequential()\n",
    "    #ReLU is widely used\n",
    "    #sigmoid is used for the output layer\n",
    "    #dense is basically adding layers to yout model for better input and output\n",
    "    model.add(Dense(32, activation = 'relu'))\n",
    "    model.add(Dense(12, activation = 'relu'))\n",
    "    \n",
    "    model.add(Dense(1, activation = 'sigmoid'))\n",
    "\n",
    "    #binary_cross used for binary classificaiton problems\n",
    "    # adam = for gradient descent \n",
    "    #metric because this is a classificaiton problem \n",
    "    model.compile(loss='binary_crossentropy', optimizer='adam', metrics=['accuracy'])\n",
    "    return model"
   ]
  },
  {
   "cell_type": "markdown",
   "metadata": {},
   "source": [
    "The following website explained the architecture of a Neural Network.https://machinelearningmastery.com/tutorial-first-neural-network-python-keras/"
   ]
  },
  {
   "cell_type": "code",
   "execution_count": 61,
   "metadata": {},
   "outputs": [],
   "source": [
    "def run_ffnn(features, labels, model):\n",
    "    X_train, X_test, y_train, y_test = train_test_split(\n",
    "        features, labels, test_size=0.33, random_state=42)\n",
    "\n",
    "    history = model.fit(X_train, y_train , validation_split = 0.33, epochs = 50 , batch_size = 10, verbose = 0)\n",
    "\n",
    "\n",
    "    loss, accuracy = model.evaluate(X_test, y_test)\n",
    "    #the lower the loss the closer our predicitons are to the  labels \n",
    "    print(\"Loss = \", loss)\n",
    "    print(\"Accuracy = \", accuracy)\n",
    "    \n",
    "\n",
    "    #to plot accuracy\n",
    "    \n",
    "    plt.title('Model for Accuracies on Training and Testing set ')\n",
    "    plt.plot(history.history['accuracy'])\n",
    "    plt.plot(history.history['val_accuracy'])\n",
    "    plt.xlabel('Epochs')\n",
    "    plt.ylabel('Accuracy')\n",
    "    plt.legend(['Training', 'Testing'], loc = 'upper right')\n",
    "    plt.show()\n",
    "    \n",
    "    #to plot loss \n",
    "    plt.title('Model for Loss ')\n",
    "    plt.plot(history.history['loss'])\n",
    "    plt.plot(history.history['val_loss'])\n",
    "    plt.xlabel('Epochs')\n",
    "    plt.ylabel('Loss ')\n",
    "    plt.legend(['Training Loss ', 'Testing Loss'], loc = 'upper right')\n",
    "    plt.show()\n",
    "   \n",
    "\n",
    "    #validation split is our test size \n",
    "    #the more the epochs the more consistent the accuracy"
   ]
  },
  {
   "cell_type": "markdown",
   "metadata": {},
   "source": [
    "History object is pre-build into Keras it records call back events and training metrics for each epoch. The idea to use history object as a path  to implement the plot for Accuracy and Loss was discovered from this website.https://machinelearningmastery.com/display-deep-learning-model-training-history-in-keras/"
   ]
  },
  {
   "cell_type": "markdown",
   "metadata": {},
   "source": [
    "### What is \"loss\" and why is it important?\n",
    "The loss is a scalar value, the lower the loss the better our accuracies are for the data. For the computation of Loss, we have decided to use the function Binary Crossentropy. Binary Crossentropy is used for the prediction between features and predicted labels. As binary crossentropy works better with two labels such as 0 and 1 we decided to approach this loss function.\n",
    "Adam is used as an optimizer to determine the gradient descent for a problem. It is commonly used for natural language processing. For output, the accuracies and data we decided to use verbose = 0 because verbose (0) is more silent and doesn't show the progress bar. The progress bar represents accuracy and loss and the amount of time consumed for each epoch and with the higher number of epochs used to train the model, it is taking more space."
   ]
  },
  {
   "cell_type": "markdown",
   "metadata": {},
   "source": [
    "# Results\n",
    "### Video Game Dataset"
   ]
  },
  {
   "cell_type": "code",
   "execution_count": 55,
   "metadata": {},
   "outputs": [],
   "source": [
    "df = getDF('./Video_Games_5.json.gz')\n",
    "max_features = 10000\n",
    "features, labels = select_features(df, max_features)\n",
    "\n",
    "# generate a vocabulary (bag of words) for a given set of text features \n",
    "bow_model = create_bow_model(features, max_features)\n",
    "features_bow = generate_bow(features, max_features, bow_model)"
   ]
  },
  {
   "cell_type": "code",
   "execution_count": 56,
   "metadata": {},
   "outputs": [
    {
     "name": "stdout",
     "output_type": "stream",
     "text": [
      "F1 score for Random Forest Classifier: 0.9181027408501559\n"
     ]
    }
   ],
   "source": [
    "random_forest_score = run_random_forest(features_bow, labels)\n",
    "print(\"F1 score for Random Forest Classifier:\", random_forest_score)"
   ]
  },
  {
   "cell_type": "code",
   "execution_count": 57,
   "metadata": {},
   "outputs": [
    {
     "name": "stdout",
     "output_type": "stream",
     "text": [
      "F1 score for Decision Tree Classifier 0.8807274023890177\n"
     ]
    }
   ],
   "source": [
    "decision_tree_score = run_decision_tree(features_bow, labels)\n",
    "print(\"F1 score for Decision Tree Classifier\" , decision_tree_score)"
   ]
  },
  {
   "cell_type": "code",
   "execution_count": 62,
   "metadata": {},
   "outputs": [
    {
     "name": "stdout",
     "output_type": "stream",
     "text": [
      "3300/3300 [==============================] - 0s 64us/step\n",
      "Loss =  1.8480289967175783\n",
      "Accuracy =  0.8621212244033813\n"
     ]
    },
    {
     "data": {
      "image/png": "[encoded data removed]",
      "text/plain": [
       "<Figure size 432x288 with 1 Axes>"
      ]
     },
     "metadata": {
      "needs_background": "light"
     },
     "output_type": "display_data"
    },
    {
     "data": {
      "image/png": "[encoded data removed]",
      "text/plain": [
       "<Figure size 432x288 with 1 Axes>"
      ]
     },
     "metadata": {
      "needs_background": "light"
     },
     "output_type": "display_data"
    }
   ],
   "source": [
    "# feed forward neural network model \n",
    "\n",
    "nn_model = build_nn_model()\n",
    "run_ffnn(features_bow, labels, nn_model)\n"
   ]
  },
  {
   "cell_type": "markdown",
   "metadata": {},
   "source": [
    "Our accuracies for the training and testing set show a gap because of overfitting. The Loss increases as the testing set increases.The lower the loss the better the accuracies. "
   ]
  },
  {
   "cell_type": "markdown",
   "metadata": {},
   "source": [
    "### Movies and TV"
   ]
  },
  {
   "cell_type": "code",
   "execution_count": 63,
   "metadata": {},
   "outputs": [],
   "source": [
    "\n",
    "df = getDF('Movies_and_TV_5.json.gz')\n",
    "max_features = 10000\n",
    "features, labels = select_features(df, max_features)\n",
    "\n",
    "# generate a vocabulary (bag of words) for a given set of text features \n",
    "bow_model = create_bow_model(features, max_features)\n",
    "features_bow = generate_bow(features, max_features, bow_model)"
   ]
  },
  {
   "cell_type": "code",
   "execution_count": 64,
   "metadata": {},
   "outputs": [
    {
     "name": "stdout",
     "output_type": "stream",
     "text": [
      "F1 score for Decision Tree Classifier 0.9020850708924103\n"
     ]
    }
   ],
   "source": [
    "random_forest_score = run_random_forest(features_bow, labels)\n",
    "print(\"F1 score for Random Forest Classifier\" , random_forest_score)"
   ]
  },
  {
   "cell_type": "code",
   "execution_count": 32,
   "metadata": {},
   "outputs": [
    {
     "name": "stdout",
     "output_type": "stream",
     "text": [
      "F1 score for Decision Tree Classifier 0.8807274023890177\n"
     ]
    }
   ],
   "source": [
    "decision_tree_score = run_decision_tree(features_bow, labels)\n",
    "print(\"F1 score for Decision Tree Classifier\" , decision_tree_score)"
   ]
  },
  {
   "cell_type": "code",
   "execution_count": 65,
   "metadata": {},
   "outputs": [
    {
     "name": "stdout",
     "output_type": "stream",
     "text": [
      "3300/3300 [==============================] - 0s 63us/step\n",
      "Loss =  2.0940900106908695\n",
      "Accuracy =  0.8500000238418579\n"
     ]
    },
    {
     "data": {
      "image/png": "[encoded data removed]",
      "text/plain": [
       "<Figure size 432x288 with 1 Axes>"
      ]
     },
     "metadata": {
      "needs_background": "light"
     },
     "output_type": "display_data"
    },
    {
     "data": {
      "image/png": "[encoded data removed]",
      "text/plain": [
       "<Figure size 432x288 with 1 Axes>"
      ]
     },
     "metadata": {
      "needs_background": "light"
     },
     "output_type": "display_data"
    }
   ],
   "source": [
    "nn_model = build_nn_model()\n",
    "run_ffnn(features_bow, labels, nn_model)"
   ]
  },
  {
   "cell_type": "markdown",
   "metadata": {},
   "source": [
    "Our accuracies for the training and testing set represents  a gap largely due to overfitting, but with larger amount of samples this overfitting tends to reduce by a small number.The loss increases with the testing set as the number of epochs increases. "
   ]
  },
  {
   "cell_type": "markdown",
   "metadata": {},
   "source": [
    "# Contributions to this Project \n",
    "\n",
    "Hetansh \n",
    "- Implemented Feed Forward Neural Network\n",
    "- Explanation of our feed forward implementation.\n",
    "- Created/explained plots for Neural Network\n",
    "- Wrote 'loss' description\n",
    "- References \n",
    "- Added basic classification \n",
    "- Implemented Decision Tree classifier \n",
    "\n",
    "Matt\n",
    "- Implemented feature selection and generated feature/label sets\n",
    "- Implemented Text Vectorization (bag of words) algorithm\n",
    "- Implemeted Random Forest Classifier\n",
    "- Wrote Description of Bag of Words\n",
    "- Wrote explanation for F1 scores\n",
    "- Wrote basic description of Feed Forward Neural Networks\n",
    "- Wrote explanations for baseline classsifiers\n",
    "\n",
    "What we both worked on:\n",
    "- Wrote \"What is Sentimental Analysis?\"\n",
    "- Wrote \"Why use Sentimental Analysis?\"\n",
    "- Wrote \"Our Approach\" \n"
   ]
  },
  {
   "cell_type": "markdown",
   "metadata": {},
   "source": [
    "## References \n"
   ]
  },
  {
   "cell_type": "markdown",
   "metadata": {},
   "source": [
    "1. Malik,Usman.\"Python for NLP: Movie Sentiment Analysis using Deep Learning in Keras.\" Stack Abuse.https://stackabuse.com/python-for-nlp-movie-sentiment-analysis-using-deep-learning-in-keras/. December 7, 2020.\n",
    "\n",
    "\n",
    "2. Dumbleton,Rob.\"Complete Guide to Sentiment analysis: Updated 2020\".Insights by Thematic.https://getthematic.com/insights/sentiment-analysis/. December 7, 2020.\n",
    "\n",
    "\n",
    "3. Das, Deepak.\"Social Media Sentiment Analysis using Machine Learning: Part-1\".towards data science. Sep 6, 2019.https://towardsdatascience.com/social-media-sentiment-analysis-49b395771197. December 7, 2020.\n",
    "\n",
    "\n",
    "4.  Das, Deepak.\"Social Media Sentiment Analysis using Machine Learning: Part-2\".towards data science. Sep 22, 2019.https://towardsdatascience.com/social-media-sentiment-analysis-49b395771197. December 7, 2020.\n",
    "\n",
    "\n",
    "5. Brownless,Jason.\"How to Develop a Deep Learning Bag-of-Words Model for Sentiment Analysis(Text Classification)\". Machine Learning Mastery, October 20,2017.https://machinelearningmastery.com/deep-learning-bag-of-words-model-sentiment-analysis/. December 7, 2020.\n",
    "\n",
    "\n",
    "6. \"Text Classification with Sentimental Analysis    \".     https://www.samyzaf.com/ML/imdb/imdb.html. December 7,2020.\n",
    "\n",
    "\n",
    "7. McCaffrey,James.\"Sentiment Analysis Using Keras\". Visual Studio Magazine, November 15, 2018. https://visualstudiomagazine.com/articles/2018/11/01/sentiment-analysis-using-keras.aspx. December 7, 2020\n",
    "\n",
    "\n",
    "8. Brownlee,Jason.\"Your First Deep Learning Project in Python with Keras Step-By-Step\".Machine Learning Mastery, July 24,2019. https://machinelearningmastery.com/tutorial-first-neural-network-python-keras/. December 8, 2020.\n",
    "\n",
    "\n",
    "9. Zhou,Victor.\"Keras for Beginners: Building Your First Neural Network\". Victor Zhou/Blogs, June 14,2019.https://victorzhou.com/blog/keras-neural-network-tutorial/. December 8, 2020.\n",
    "\n",
    "\n",
    "10. Jianmo Ni, Jiacheng Li, Julian McAuley,Empirical Methods in Natural Language Processing (EMNLP), 2019.https://nijianmo.github.io/amazon/index.html. November 21,2020.\n",
    "\n",
    "\n",
    "11. Opperman, Artem.\"Sentiment Analysis with Deep Learning of Netflix Reviews\".towards data science, Feb 24, 2019 . https://towardsdatascience.com/sentiment-analysis-with-deep-learning-62d4d0166ef6. December 7th, 2020.\n",
    "\n",
    "12. Brownless,Jason.\"Display Deep Learning Model Training History in Keras\".Machine Learning Mastery, October 3,2019. https://machinelearningmastery.com/display-deep-learning-model-training-history-in-keras/. December 7, 2020. \n",
    "\n",
    "\n",
    "13. \"Feedforward neural networks 1. What is feedforward neural network ?\",26th April,2004. https://www.fon.hum.uva.nl/praat/manual/Feedforward_neural_networks_1__What_is_a_feedforward_ne.html. 7th December 2020.\n",
    "\n",
    "\n",
    "14. Gupta,Tushar.\"Deep Learning: FeedForward Neural Network\".towards data science, Jan 4, 2017. https://towardsdatascience.com/deep-learning-feedforward-neural-network-26a6705dbdc7. December 7, 2020.\n",
    "\n",
    "\n",
    "15. \"Sentimen Analysis: A Definite Guide\". MonkeyLearn. https://monkeylearn.com/sentiment-analysis/. December 7, 2020.\n",
    "\n",
    "\n"
   ]
  }
 ],
 "metadata": {
  "kernelspec": {
   "display_name": "Python 3",
   "language": "python",
   "name": "python3"
  },
  "language_info": {
   "codemirror_mode": {
    "name": "ipython",
    "version": 3
   },
   "file_extension": ".py",
   "mimetype": "text/x-python",
   "name": "python",
   "nbconvert_exporter": "python",
   "pygments_lexer": "ipython3",
   "version": "3.7.9"
  }
 },
 "nbformat": 4,
 "nbformat_minor": 4
}
