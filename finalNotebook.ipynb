{
 "cells": [
  {
   "cell_type": "code",
   "execution_count": 1,
   "metadata": {},
   "outputs": [
    {
     "data": {
      "application/javascript": [
       "IPython.notebook.set_autosave_interval(0)"
      ]
     },
     "metadata": {},
     "output_type": "display_data"
    },
    {
     "name": "stdout",
     "output_type": "stream",
     "text": [
      "Autosave disabled\n"
     ]
    }
   ],
   "source": [
    "import numpy as np\n",
    "from matplotlib import pylab as plt\n",
    "%autosave 0\n",
    "%matplotlib inline"
   ]
  },
  {
   "cell_type": "code",
   "execution_count": 2,
   "metadata": {},
   "outputs": [],
   "source": [
    "from sklearn.neighbors import KNeighborsClassifier\n",
    "import tensorflow as tf \n",
    "from tensorflow.keras.layers.experimental.preprocessing import TextVectorization"
   ]
  },
  {
   "cell_type": "code",
   "execution_count": 3,
   "metadata": {},
   "outputs": [],
   "source": [
    "import pandas as pd\n",
    "import gzip\n",
    "import json\n",
    "\n",
    "def parse(path):\n",
    "    g = gzip.open(path, 'rb')\n",
    "    for l in g:\n",
    "        yield json.loads(l)\n",
    "\n",
    "def getDF(path):\n",
    "    i = 0\n",
    "    df = {}\n",
    "    for d in parse(path):\n",
    "        df[i] = d\n",
    "        i += 1\n",
    "    return pd.DataFrame.from_dict(df, orient='index')\n",
    "\n",
    "df = getDF('Video_Games_5.json.gz')"
   ]
  },
  {
   "cell_type": "code",
   "execution_count": 4,
   "metadata": {},
   "outputs": [],
   "source": [
    "# feature selection\n",
    "\n",
    "X = df['reviewText']\n",
    "y = df['overall']\n",
    "\n",
    "features = X.tolist()[:20000]\n",
    "scores = y.tolist()[:20000]\n",
    "\n",
    "final_labels = []\n",
    "\n",
    "\n",
    "for i in range(len(features)):\n",
    "    if scores[i] >= 3.5:\n",
    "        final_labels.append(1)\n",
    "    else:\n",
    "        final_labels.append(0)"
   ]
  },
  {
   "cell_type": "code",
   "execution_count": 5,
   "metadata": {},
   "outputs": [],
   "source": [
    "# Shuffle the original features array for building the vocabulary\n",
    "vocab_set = np.array(X.tolist()[20000:40000])\n",
    "np.random.shuffle(vocab_set)\n",
    "\n",
    "# creates an object for each item inside of a given tensor, then adds them all into a list\n",
    "text_dataset = tf.data.Dataset.from_tensor_slices(vocab_set)\n",
    "\n",
    "max_features = 20000  # Maximum vocab size.\n",
    "max_len = 4  # Sequence length to pad the outputs to.\n",
    "embedding_dims = 2\n",
    "\n",
    "# # Create the layer.  \n",
    "vectorize_layer = TextVectorization(\n",
    "max_tokens=max_features,\n",
    "output_mode='count')\n",
    "\n",
    "\n",
    "# # Now that the vocab layer has been created, call `adapt` on the text-only  \n",
    "# # dataset to create the vocabulary. You don't have to batch, but for large  \n",
    "# # datasets this means we're not keeping spare copies of the dataset.  \n",
    "vectorize_layer.adapt(text_dataset.batch(64))\n",
    "model = tf.keras.models.Sequential()\n",
    "model.add(tf.keras.Input(shape=(1,), dtype=tf.string))\n",
    "model.add(vectorize_layer)"
   ]
  },
  {
   "cell_type": "markdown",
   "metadata": {},
   "source": [
    "Vectorize all of the reviews using bag of words\n",
    "- Keras vectorization implementation: https://keras.io/api/layers/preprocessing_layers/core_preprocessing_layers/text_vectorization/\n",
    "- Overview of algorithm by Google Cloud Platform: https://www.youtube.com/watch?v=UFtXy0KRxVI"
   ]
  },
  {
   "cell_type": "code",
   "execution_count": null,
   "metadata": {},
   "outputs": [],
   "source": []
  },
  {
   "cell_type": "markdown",
   "metadata": {},
   "source": [
    "Run vectorized features through kNN classifier and measure accuracy\n",
    "- X (features) = vectorized full-reviews\n",
    "- y (labels) = 'overall' rating"
   ]
  },
  {
   "cell_type": "code",
   "execution_count": 6,
   "metadata": {},
   "outputs": [
    {
     "data": {
      "text/plain": [
       "(20000, 20000)"
      ]
     },
     "execution_count": 6,
     "metadata": {},
     "output_type": "execute_result"
    }
   ],
   "source": [
    "\n",
    "input_data = np.array([])\n",
    "stop = 0\n",
    "for item in text_dataset:\n",
    "    if stop == max_features:\n",
    "        break\n",
    "    input_data = np.append(input_data, np.array(item))\n",
    "    stop += 1\n",
    "\n",
    "features = model.predict(input_data)\n",
    "features.shape"
   ]
  },
  {
   "cell_type": "code",
   "execution_count": null,
   "metadata": {},
   "outputs": [],
   "source": []
  },
  {
   "cell_type": "code",
   "execution_count": 7,
   "metadata": {},
   "outputs": [
    {
     "name": "stdout",
     "output_type": "stream",
     "text": [
      "(20000, 20000)\n",
      "(20000,)\n"
     ]
    },
    {
     "data": {
      "text/plain": [
       "0.9071943041642521"
      ]
     },
     "execution_count": 7,
     "metadata": {},
     "output_type": "execute_result"
    }
   ],
   "source": [
    "from sklearn.model_selection import train_test_split\n",
    "from sklearn.ensemble import RandomForestClassifier\n",
    "from sklearn.metrics import confusion_matrix\n",
    "from sklearn.model_selection import cross_val_score\n",
    "from sklearn.metrics import f1_score\n",
    "\n",
    "final_labels = np.array(final_labels)\n",
    "\n",
    "print(features.shape)\n",
    "print(final_labels.shape)\n",
    "\n",
    "classifier = RandomForestClassifier(n_estimators=10)\n",
    "\n",
    "\n",
    "X_train, X_test, y_train, y_test = train_test_split(features, final_labels, test_size=0.33, random_state=42)\n",
    "\n",
    "classifier.fit(X_train, y_train)\n",
    "\n",
    "y_pred = classifier.predict_proba(X_test)\n",
    "#calculate f1 scores\n",
    "\n",
    "# if probability that \n",
    "y_pred=y_pred[:,1]>=0.3\n",
    "y_pred_int = y_pred.astype(np.int)\n",
    "score = f1_score(y_test, y_pred_int)\n",
    "score"
   ]
  },
  {
   "cell_type": "code",
   "execution_count": 8,
   "metadata": {},
   "outputs": [
    {
     "name": "stdout",
     "output_type": "stream",
     "text": [
      "[0 1 1 ... 1 1 0]\n",
      "0.8418181818181818\n",
      "5556\n"
     ]
    }
   ],
   "source": [
    "from sklearn.tree import DecisionTreeClassifier\n",
    "\n",
    "X_train, X_test, y_train, y_test = train_test_split(\n",
    "    features, final_labels, test_size=0.33, random_state=42)\n",
    "\n",
    "nc = DecisionTreeClassifier(random_state = 2)\n",
    "nc.fit(X_train,y_train)\n",
    "\n",
    "y_p = nc.predict(X_test)\n",
    "print(y_p)\n",
    "\n",
    "    \n",
    "print(np.mean(y_p))\n",
    "\n",
    "print(np.count_nonzero(y_p))\n"
   ]
  },
  {
   "cell_type": "code",
   "execution_count": 11,
   "metadata": {},
   "outputs": [],
   "source": [
    "from keras.preprocessing import sequence\n",
    "from keras.models import Sequential\n",
    "from keras.layers import Dense, Dropout, Activation\n",
    "from keras.layers import Embedding\n",
    "from keras.layers import Convolution1D, GlobalMaxPooling1D"
   ]
  },
  {
   "cell_type": "code",
   "execution_count": 21,
   "metadata": {},
   "outputs": [],
   "source": [
    "model = Sequential()\n",
    "#he taught us in class about relu it is more commonly used\n",
    "#sigmoid is used for the output layer\n",
    "#dense is basically adding layers to yout model for better input and output\n",
    "model.add(Dense(12, activation = 'relu'))\n",
    "model.add(Dense(1, activation = 'sigmoid'))\n",
    "\n",
    "#binary_cross used for binary classificaiton problems\n",
    "# adam = for gradient descent \n",
    "#metric because this is a classificaiton problem \n",
    "model.compile(loss = 'binary_crossentropy', optimizer = 'adam', metric = ['accuracy'])"
   ]
  },
  {
   "cell_type": "code",
   "execution_count": 29,
   "metadata": {},
   "outputs": [
    {
     "name": "stdout",
     "output_type": "stream",
     "text": [
      "Epoch 1/10\n",
      "20000/20000 [==============================] - 5s 273us/step - loss: 0.0355\n",
      "Epoch 2/10\n",
      "20000/20000 [==============================] - 5s 258us/step - loss: 0.0351\n",
      "Epoch 3/10\n",
      "20000/20000 [==============================] - 5s 260us/step - loss: 0.0326\n",
      "Epoch 4/10\n",
      "20000/20000 [==============================] - 5s 256us/step - loss: 0.0373\n",
      "Epoch 5/10\n",
      "20000/20000 [==============================] - 5s 251us/step - loss: 0.0336\n",
      "Epoch 6/10\n",
      "20000/20000 [==============================] - 5s 258us/step - loss: 0.0349\n",
      "Epoch 7/10\n",
      "20000/20000 [==============================] - 5s 256us/step - loss: 0.0343\n",
      "Epoch 8/10\n",
      "20000/20000 [==============================] - 5s 257us/step - loss: 0.0336\n",
      "Epoch 9/10\n",
      "20000/20000 [==============================] - 5s 259us/step - loss: 0.0318 0s\n",
      "Epoch 10/10\n",
      "20000/20000 [==============================] - 5s 260us/step - loss: 0.0349\n",
      "20000/20000 [==============================] - 2s 101us/step\n",
      "accuracy  0.2923101104067173\n"
     ]
    }
   ],
   "source": [
    "model.fit(features, final_labels , epochs = 10 , batch_size = 10)\n",
    "accuracy = model.evaluate(features, final_labels)\n",
    "print('accuracy ', (np.mean(accuracy*10)))\n",
    "#the lower the loss the closer our predicitons are to the  labels \n"
   ]
  },
  {
   "cell_type": "code",
   "execution_count": null,
   "metadata": {},
   "outputs": [],
   "source": []
  }
 ],
 "metadata": {
  "kernelspec": {
   "display_name": "Python 3",
   "language": "python",
   "name": "python3"
  },
  "language_info": {
   "codemirror_mode": {
    "name": "ipython",
    "version": 3
   },
   "file_extension": ".py",
   "mimetype": "text/x-python",
   "name": "python",
   "nbconvert_exporter": "python",
   "pygments_lexer": "ipython3",
   "version": "3.7.9"
  }
 },
 "nbformat": 4,
 "nbformat_minor": 4
}
