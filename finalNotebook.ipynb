{
 "cells": [
  {
   "cell_type": "code",
   "execution_count": 2,
   "metadata": {},
   "outputs": [
    {
     "output_type": "display_data",
     "data": {
      "application/javascript": "IPython.notebook.set_autosave_interval(0)"
     },
     "metadata": {}
    },
    {
     "output_type": "stream",
     "name": "stdout",
     "text": [
      "Autosave disabled\n"
     ]
    }
   ],
   "source": [
    "import numpy as np\n",
    "from matplotlib import pylab as plt\n",
    "%autosave 0\n",
    "%matplotlib inline"
   ]
  },
  {
   "cell_type": "code",
   "execution_count": 3,
   "metadata": {},
   "outputs": [],
   "source": [
    "from sklearn.neighbors import KNeighborsClassifier\n",
    "import tensorflow as tf \n",
    "from tensorflow.keras.layers.experimental.preprocessing import TextVectorization\n"
   ]
  },
  {
   "cell_type": "code",
   "execution_count": 4,
   "metadata": {},
   "outputs": [],
   "source": [
    "import pandas as pd\n",
    "import gzip\n",
    "import json\n",
    "\n",
    "def parse(path):\n",
    "    g = gzip.open(path, 'rb')\n",
    "    for l in g:\n",
    "        yield json.loads(l)\n",
    "\n",
    "def getDF(path):\n",
    "    i = 0\n",
    "    df = {}\n",
    "    for d in parse(path):\n",
    "        df[i] = d\n",
    "        i += 1\n",
    "    return pd.DataFrame.from_dict(df, orient='index')\n",
    "\n",
    "df = getDF('./Video_Games_5.json.gz')\n",
    "\n"
   ]
  },
  {
   "cell_type": "code",
   "execution_count": 5,
   "metadata": {
    "tags": []
   },
   "outputs": [
    {
     "output_type": "stream",
     "name": "stdout",
     "text": [
      "[1, 1, 0, 0, 1, 1, 0, 1, 1, 1, 1, 0, 1, 1, 1, 1, 1, 0, 0, 1, 1, 1, 1, 1, 0, 0, 0, 0, 1, 0, 0, 0, 1, 0, 1, 1, 0, 1, 0, 1, 0, 0, 1, 1, 0, 0, 1, 1, 1, 1, 1, 1, 1, 1, 1, 0, 1, 1, 1, 1, 1, 1, 1, 1, 1, 1, 1, 1, 1, 1, 1, 1, 1, 1, 1, 1, 1, 1, 1, 1, 1, 1, 1, 1, 1, 1, 1, 1, 1, 1, 1, 1, 1, 1, 0, 1, 1, 1, 1, 0]\n"
     ]
    }
   ],
   "source": [
    "X = df['reviewText']\n",
    "y = df['overall']\n",
    "\n",
    "reviews = X.tolist()[:5000]\n",
    "scores = y.tolist()[:5000]\n",
    "\n",
    "final_labels = []\n",
    "\n",
    "for i in range(len(reviews)):\n",
    "    if scores[i] >= 3.5:\n",
    "        final_labels.append(1)\n",
    "    else:\n",
    "        final_labels.append(0)\n",
    "\n",
    "print(final_labels[:100])"
   ]
  },
  {
   "source": [
    "Vectorize all of the reviews using bag of words\n",
    "- Keras vectorization implementation: https://keras.io/api/layers/preprocessing_layers/core_preprocessing_layers/text_vectorization/\n",
    "- Overview of algorithm by Google Cloud Platform: https://www.youtube.com/watch?v=UFtXy0KRxVI"
   ],
   "cell_type": "markdown",
   "metadata": {}
  },
  {
   "cell_type": "code",
   "execution_count": 6,
   "metadata": {
    "tags": []
   },
   "outputs": [],
   "source": [
    "\n",
    "# creates an object for each item inside of a given tensor, then adds them all into a list\n",
    "text_dataset = tf.data.Dataset.from_tensor_slices(X.tolist()[:5000])\n",
    "\n",
    "max_features = 5000  # Maximum vocab size.\n",
    "max_len = 4  # Sequence length to pad the outputs to.\n",
    "embedding_dims = 2\n",
    "\n",
    "# # Create the layer.  \n",
    "vectorize_layer = TextVectorization(\n",
    "max_tokens=max_features,\n",
    "output_mode='binary')\n",
    "\n",
    "\n",
    "# # Now that the vocab layer has been created, call `adapt` on the text-only  \n",
    "# # dataset to create the vocabulary. You don't have to batch, but for large  \n",
    "# # datasets this means we're not keeping spare copies of the dataset.  \n",
    "vectorize_layer.adapt(text_dataset.batch(64))\n",
    "model = tf.keras.models.Sequential()\n",
    "model.add(tf.keras.Input(shape=(1,), dtype=tf.string))\n",
    "model.add(vectorize_layer)"
   ]
  },
  {
   "cell_type": "code",
   "execution_count": 7,
   "metadata": {
    "tags": []
   },
   "outputs": [],
   "source": [
    "\n",
    "input_data = np.array([])\n",
    "for item in text_dataset:\n",
    "    input_data = np.append(input_data, np.array(item))\n",
    "\n",
    "features = model.predict(input_data)"
   ]
  },
  {
   "source": [
    "Features obtained from the predict function above will be used with the classifiers"
   ],
   "cell_type": "markdown",
   "metadata": {}
  },
  {
   "cell_type": "code",
   "execution_count": 10,
   "metadata": {},
   "outputs": [
    {
     "output_type": "stream",
     "name": "stdout",
     "text": [
      "True\n"
     ]
    }
   ],
   "source": [
    "from sklearn.model_selection import train_test_split\n",
    "from sklearn.ensemble import RandomForestClassifier\n",
    "\n",
    "final_labels = np.array(final_labels)\n",
    "\n",
    "X_train, X_test, y_train, y_test = train_test_split(\n",
    "    features, final_labels, test_size=0.33, random_state=42)\n",
    "\n",
    "regr = RandomForestClassifier(n_estimators=100)\n",
    "regr.fit(X_train, y_train)\n",
    "\n",
    "y_pred = regr.predict(X_test)"
   ]
  },
  {
   "cell_type": "code",
   "execution_count": null,
   "metadata": {},
   "outputs": [],
   "source": []
  }
 ],
 "metadata": {
  "kernelspec": {
   "display_name": "Python 3",
   "language": "python",
   "name": "python3"
  },
  "language_info": {
   "codemirror_mode": {
    "name": "ipython",
    "version": 3
   },
   "file_extension": ".py",
   "mimetype": "text/x-python",
   "name": "python",
   "nbconvert_exporter": "python",
   "pygments_lexer": "ipython3",
   "version": "3.8.5-final"
  }
 },
 "nbformat": 4,
 "nbformat_minor": 4
}